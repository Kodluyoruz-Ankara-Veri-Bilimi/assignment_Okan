{
 "cells": [
  {
   "cell_type": "code",
   "execution_count": 1,
   "metadata": {
    "scrolled": true
   },
   "outputs": [
    {
     "data": {
      "text/html": [
       "<div>\n",
       "<style scoped>\n",
       "    .dataframe tbody tr th:only-of-type {\n",
       "        vertical-align: middle;\n",
       "    }\n",
       "\n",
       "    .dataframe tbody tr th {\n",
       "        vertical-align: top;\n",
       "    }\n",
       "\n",
       "    .dataframe thead th {\n",
       "        text-align: right;\n",
       "    }\n",
       "</style>\n",
       "<table border=\"1\" class=\"dataframe\">\n",
       "  <thead>\n",
       "    <tr style=\"text-align: right;\">\n",
       "      <th></th>\n",
       "      <th>bad</th>\n",
       "      <th>loan</th>\n",
       "      <th>mortdue</th>\n",
       "      <th>value</th>\n",
       "      <th>reason</th>\n",
       "      <th>job</th>\n",
       "      <th>yoj</th>\n",
       "      <th>derog</th>\n",
       "      <th>delinq</th>\n",
       "      <th>clage</th>\n",
       "      <th>ninq</th>\n",
       "      <th>clno</th>\n",
       "      <th>debtinc</th>\n",
       "    </tr>\n",
       "  </thead>\n",
       "  <tbody>\n",
       "    <tr>\n",
       "      <th>0</th>\n",
       "      <td>0</td>\n",
       "      <td>81200</td>\n",
       "      <td>18834.0</td>\n",
       "      <td>108355.0</td>\n",
       "      <td>HomeImp</td>\n",
       "      <td>NaN</td>\n",
       "      <td>28.0</td>\n",
       "      <td>0.0</td>\n",
       "      <td>0.0</td>\n",
       "      <td>139.14</td>\n",
       "      <td>0.0</td>\n",
       "      <td>14.0</td>\n",
       "      <td>34.042</td>\n",
       "    </tr>\n",
       "    <tr>\n",
       "      <th>1</th>\n",
       "      <td>0</td>\n",
       "      <td>12600</td>\n",
       "      <td>103960.0</td>\n",
       "      <td>127384.0</td>\n",
       "      <td>DebtCon</td>\n",
       "      <td>NaN</td>\n",
       "      <td>2.0</td>\n",
       "      <td>0.0</td>\n",
       "      <td>0.0</td>\n",
       "      <td>129.02</td>\n",
       "      <td>0.0</td>\n",
       "      <td>25.0</td>\n",
       "      <td>34.479</td>\n",
       "    </tr>\n",
       "    <tr>\n",
       "      <th>2</th>\n",
       "      <td>0</td>\n",
       "      <td>18000</td>\n",
       "      <td>46865.0</td>\n",
       "      <td>61266.0</td>\n",
       "      <td>DebtCon</td>\n",
       "      <td>NaN</td>\n",
       "      <td>5.0</td>\n",
       "      <td>0.0</td>\n",
       "      <td>0.0</td>\n",
       "      <td>102.59</td>\n",
       "      <td>2.0</td>\n",
       "      <td>9.0</td>\n",
       "      <td>26.354</td>\n",
       "    </tr>\n",
       "    <tr>\n",
       "      <th>3</th>\n",
       "      <td>0</td>\n",
       "      <td>10300</td>\n",
       "      <td>57676.0</td>\n",
       "      <td>71027.0</td>\n",
       "      <td>DebtCon</td>\n",
       "      <td>NaN</td>\n",
       "      <td>19.0</td>\n",
       "      <td>0.0</td>\n",
       "      <td>0.0</td>\n",
       "      <td>157.52</td>\n",
       "      <td>1.0</td>\n",
       "      <td>11.0</td>\n",
       "      <td>33.992</td>\n",
       "    </tr>\n",
       "    <tr>\n",
       "      <th>4</th>\n",
       "      <td>0</td>\n",
       "      <td>9400</td>\n",
       "      <td>56508.0</td>\n",
       "      <td>78358.0</td>\n",
       "      <td>DebtCon</td>\n",
       "      <td>NaN</td>\n",
       "      <td>17.0</td>\n",
       "      <td>0.0</td>\n",
       "      <td>0.0</td>\n",
       "      <td>141.93</td>\n",
       "      <td>0.0</td>\n",
       "      <td>11.0</td>\n",
       "      <td>32.327</td>\n",
       "    </tr>\n",
       "    <tr>\n",
       "      <th>...</th>\n",
       "      <td>...</td>\n",
       "      <td>...</td>\n",
       "      <td>...</td>\n",
       "      <td>...</td>\n",
       "      <td>...</td>\n",
       "      <td>...</td>\n",
       "      <td>...</td>\n",
       "      <td>...</td>\n",
       "      <td>...</td>\n",
       "      <td>...</td>\n",
       "      <td>...</td>\n",
       "      <td>...</td>\n",
       "      <td>...</td>\n",
       "    </tr>\n",
       "    <tr>\n",
       "      <th>3571</th>\n",
       "      <td>1</td>\n",
       "      <td>8400</td>\n",
       "      <td>31800.0</td>\n",
       "      <td>72000.0</td>\n",
       "      <td>DebtCon</td>\n",
       "      <td>Self</td>\n",
       "      <td>NaN</td>\n",
       "      <td>0.0</td>\n",
       "      <td>2.0</td>\n",
       "      <td>187.27</td>\n",
       "      <td>1.0</td>\n",
       "      <td>21.0</td>\n",
       "      <td>NaN</td>\n",
       "    </tr>\n",
       "    <tr>\n",
       "      <th>3572</th>\n",
       "      <td>1</td>\n",
       "      <td>21600</td>\n",
       "      <td>154991.0</td>\n",
       "      <td>NaN</td>\n",
       "      <td>DebtCon</td>\n",
       "      <td>Self</td>\n",
       "      <td>NaN</td>\n",
       "      <td>2.0</td>\n",
       "      <td>4.0</td>\n",
       "      <td>165.60</td>\n",
       "      <td>0.0</td>\n",
       "      <td>43.0</td>\n",
       "      <td>38.015</td>\n",
       "    </tr>\n",
       "    <tr>\n",
       "      <th>3573</th>\n",
       "      <td>1</td>\n",
       "      <td>24000</td>\n",
       "      <td>35000.0</td>\n",
       "      <td>NaN</td>\n",
       "      <td>DebtCon</td>\n",
       "      <td>Self</td>\n",
       "      <td>3.0</td>\n",
       "      <td>1.0</td>\n",
       "      <td>0.0</td>\n",
       "      <td>177.50</td>\n",
       "      <td>0.0</td>\n",
       "      <td>16.0</td>\n",
       "      <td>NaN</td>\n",
       "    </tr>\n",
       "    <tr>\n",
       "      <th>3574</th>\n",
       "      <td>1</td>\n",
       "      <td>10000</td>\n",
       "      <td>NaN</td>\n",
       "      <td>25010.0</td>\n",
       "      <td>HomeImp</td>\n",
       "      <td>Self</td>\n",
       "      <td>5.0</td>\n",
       "      <td>0.0</td>\n",
       "      <td>3.0</td>\n",
       "      <td>326.13</td>\n",
       "      <td>4.0</td>\n",
       "      <td>17.0</td>\n",
       "      <td>NaN</td>\n",
       "    </tr>\n",
       "    <tr>\n",
       "      <th>3575</th>\n",
       "      <td>1</td>\n",
       "      <td>5900</td>\n",
       "      <td>NaN</td>\n",
       "      <td>28000.0</td>\n",
       "      <td>DebtCon</td>\n",
       "      <td>Self</td>\n",
       "      <td>1.0</td>\n",
       "      <td>2.0</td>\n",
       "      <td>1.0</td>\n",
       "      <td>36.77</td>\n",
       "      <td>1.0</td>\n",
       "      <td>8.0</td>\n",
       "      <td>NaN</td>\n",
       "    </tr>\n",
       "  </tbody>\n",
       "</table>\n",
       "<p>3576 rows × 13 columns</p>\n",
       "</div>"
      ],
      "text/plain": [
       "      bad   loan   mortdue     value   reason   job   yoj  derog  delinq  \\\n",
       "0       0  81200   18834.0  108355.0  HomeImp   NaN  28.0    0.0     0.0   \n",
       "1       0  12600  103960.0  127384.0  DebtCon   NaN   2.0    0.0     0.0   \n",
       "2       0  18000   46865.0   61266.0  DebtCon   NaN   5.0    0.0     0.0   \n",
       "3       0  10300   57676.0   71027.0  DebtCon   NaN  19.0    0.0     0.0   \n",
       "4       0   9400   56508.0   78358.0  DebtCon   NaN  17.0    0.0     0.0   \n",
       "...   ...    ...       ...       ...      ...   ...   ...    ...     ...   \n",
       "3571    1   8400   31800.0   72000.0  DebtCon  Self   NaN    0.0     2.0   \n",
       "3572    1  21600  154991.0       NaN  DebtCon  Self   NaN    2.0     4.0   \n",
       "3573    1  24000   35000.0       NaN  DebtCon  Self   3.0    1.0     0.0   \n",
       "3574    1  10000       NaN   25010.0  HomeImp  Self   5.0    0.0     3.0   \n",
       "3575    1   5900       NaN   28000.0  DebtCon  Self   1.0    2.0     1.0   \n",
       "\n",
       "       clage  ninq  clno  debtinc  \n",
       "0     139.14   0.0  14.0   34.042  \n",
       "1     129.02   0.0  25.0   34.479  \n",
       "2     102.59   2.0   9.0   26.354  \n",
       "3     157.52   1.0  11.0   33.992  \n",
       "4     141.93   0.0  11.0   32.327  \n",
       "...      ...   ...   ...      ...  \n",
       "3571  187.27   1.0  21.0      NaN  \n",
       "3572  165.60   0.0  43.0   38.015  \n",
       "3573  177.50   0.0  16.0      NaN  \n",
       "3574  326.13   4.0  17.0      NaN  \n",
       "3575   36.77   1.0   8.0      NaN  \n",
       "\n",
       "[3576 rows x 13 columns]"
      ]
     },
     "execution_count": 1,
     "metadata": {},
     "output_type": "execute_result"
    }
   ],
   "source": [
    "import pandas as pd \n",
    "import seaborn as sns\n",
    "import matplotlib.pyplot as plt\n",
    "import numpy as np\n",
    "\n",
    "data = pd.read_csv(\"bank.csv\")\n",
    "data"
   ]
  },
  {
   "cell_type": "markdown",
   "metadata": {},
   "source": [
    "#### özelliklerin birbirleri ile olan korelasyonlarına bakıldı"
   ]
  },
  {
   "cell_type": "code",
   "execution_count": 4,
   "metadata": {},
   "outputs": [
    {
     "data": {
      "text/html": [
       "<div>\n",
       "<style scoped>\n",
       "    .dataframe tbody tr th:only-of-type {\n",
       "        vertical-align: middle;\n",
       "    }\n",
       "\n",
       "    .dataframe tbody tr th {\n",
       "        vertical-align: top;\n",
       "    }\n",
       "\n",
       "    .dataframe thead th {\n",
       "        text-align: right;\n",
       "    }\n",
       "</style>\n",
       "<table border=\"1\" class=\"dataframe\">\n",
       "  <thead>\n",
       "    <tr style=\"text-align: right;\">\n",
       "      <th></th>\n",
       "      <th>bad</th>\n",
       "      <th>loan</th>\n",
       "      <th>mortdue</th>\n",
       "      <th>value</th>\n",
       "      <th>yoj</th>\n",
       "      <th>derog</th>\n",
       "      <th>delinq</th>\n",
       "      <th>clage</th>\n",
       "      <th>ninq</th>\n",
       "      <th>clno</th>\n",
       "      <th>debtinc</th>\n",
       "    </tr>\n",
       "  </thead>\n",
       "  <tbody>\n",
       "    <tr>\n",
       "      <th>bad</th>\n",
       "      <td>1.000000</td>\n",
       "      <td>-0.071523</td>\n",
       "      <td>-0.056226</td>\n",
       "      <td>-0.050254</td>\n",
       "      <td>-0.051532</td>\n",
       "      <td>0.270980</td>\n",
       "      <td>0.345548</td>\n",
       "      <td>-0.150367</td>\n",
       "      <td>0.174759</td>\n",
       "      <td>-0.008981</td>\n",
       "      <td>0.236738</td>\n",
       "    </tr>\n",
       "    <tr>\n",
       "      <th>loan</th>\n",
       "      <td>-0.071523</td>\n",
       "      <td>1.000000</td>\n",
       "      <td>0.229546</td>\n",
       "      <td>0.337453</td>\n",
       "      <td>0.123293</td>\n",
       "      <td>-0.001463</td>\n",
       "      <td>-0.021577</td>\n",
       "      <td>0.089030</td>\n",
       "      <td>0.048633</td>\n",
       "      <td>0.092377</td>\n",
       "      <td>0.093636</td>\n",
       "    </tr>\n",
       "    <tr>\n",
       "      <th>mortdue</th>\n",
       "      <td>-0.056226</td>\n",
       "      <td>0.229546</td>\n",
       "      <td>1.000000</td>\n",
       "      <td>0.873280</td>\n",
       "      <td>-0.089949</td>\n",
       "      <td>-0.053310</td>\n",
       "      <td>-0.004971</td>\n",
       "      <td>0.141236</td>\n",
       "      <td>0.029452</td>\n",
       "      <td>0.340139</td>\n",
       "      <td>0.167358</td>\n",
       "    </tr>\n",
       "    <tr>\n",
       "      <th>value</th>\n",
       "      <td>-0.050254</td>\n",
       "      <td>0.337453</td>\n",
       "      <td>0.873280</td>\n",
       "      <td>1.000000</td>\n",
       "      <td>0.002501</td>\n",
       "      <td>-0.057279</td>\n",
       "      <td>-0.011014</td>\n",
       "      <td>0.182226</td>\n",
       "      <td>-0.005191</td>\n",
       "      <td>0.290439</td>\n",
       "      <td>0.134187</td>\n",
       "    </tr>\n",
       "    <tr>\n",
       "      <th>yoj</th>\n",
       "      <td>-0.051532</td>\n",
       "      <td>0.123293</td>\n",
       "      <td>-0.089949</td>\n",
       "      <td>0.002501</td>\n",
       "      <td>1.000000</td>\n",
       "      <td>-0.073500</td>\n",
       "      <td>0.065401</td>\n",
       "      <td>0.184283</td>\n",
       "      <td>-0.067735</td>\n",
       "      <td>0.017809</td>\n",
       "      <td>-0.052290</td>\n",
       "    </tr>\n",
       "    <tr>\n",
       "      <th>derog</th>\n",
       "      <td>0.270980</td>\n",
       "      <td>-0.001463</td>\n",
       "      <td>-0.053310</td>\n",
       "      <td>-0.057279</td>\n",
       "      <td>-0.073500</td>\n",
       "      <td>1.000000</td>\n",
       "      <td>0.234706</td>\n",
       "      <td>-0.083755</td>\n",
       "      <td>0.163750</td>\n",
       "      <td>0.048631</td>\n",
       "      <td>0.032324</td>\n",
       "    </tr>\n",
       "    <tr>\n",
       "      <th>delinq</th>\n",
       "      <td>0.345548</td>\n",
       "      <td>-0.021577</td>\n",
       "      <td>-0.004971</td>\n",
       "      <td>-0.011014</td>\n",
       "      <td>0.065401</td>\n",
       "      <td>0.234706</td>\n",
       "      <td>1.000000</td>\n",
       "      <td>0.044245</td>\n",
       "      <td>0.081166</td>\n",
       "      <td>0.151996</td>\n",
       "      <td>0.076943</td>\n",
       "    </tr>\n",
       "    <tr>\n",
       "      <th>clage</th>\n",
       "      <td>-0.150367</td>\n",
       "      <td>0.089030</td>\n",
       "      <td>0.141236</td>\n",
       "      <td>0.182226</td>\n",
       "      <td>0.184283</td>\n",
       "      <td>-0.083755</td>\n",
       "      <td>0.044245</td>\n",
       "      <td>1.000000</td>\n",
       "      <td>-0.113367</td>\n",
       "      <td>0.221071</td>\n",
       "      <td>-0.042852</td>\n",
       "    </tr>\n",
       "    <tr>\n",
       "      <th>ninq</th>\n",
       "      <td>0.174759</td>\n",
       "      <td>0.048633</td>\n",
       "      <td>0.029452</td>\n",
       "      <td>-0.005191</td>\n",
       "      <td>-0.067735</td>\n",
       "      <td>0.163750</td>\n",
       "      <td>0.081166</td>\n",
       "      <td>-0.113367</td>\n",
       "      <td>1.000000</td>\n",
       "      <td>0.097669</td>\n",
       "      <td>0.133751</td>\n",
       "    </tr>\n",
       "    <tr>\n",
       "      <th>clno</th>\n",
       "      <td>-0.008981</td>\n",
       "      <td>0.092377</td>\n",
       "      <td>0.340139</td>\n",
       "      <td>0.290439</td>\n",
       "      <td>0.017809</td>\n",
       "      <td>0.048631</td>\n",
       "      <td>0.151996</td>\n",
       "      <td>0.221071</td>\n",
       "      <td>0.097669</td>\n",
       "      <td>1.000000</td>\n",
       "      <td>0.180983</td>\n",
       "    </tr>\n",
       "    <tr>\n",
       "      <th>debtinc</th>\n",
       "      <td>0.236738</td>\n",
       "      <td>0.093636</td>\n",
       "      <td>0.167358</td>\n",
       "      <td>0.134187</td>\n",
       "      <td>-0.052290</td>\n",
       "      <td>0.032324</td>\n",
       "      <td>0.076943</td>\n",
       "      <td>-0.042852</td>\n",
       "      <td>0.133751</td>\n",
       "      <td>0.180983</td>\n",
       "      <td>1.000000</td>\n",
       "    </tr>\n",
       "  </tbody>\n",
       "</table>\n",
       "</div>"
      ],
      "text/plain": [
       "              bad      loan   mortdue     value       yoj     derog    delinq  \\\n",
       "bad      1.000000 -0.071523 -0.056226 -0.050254 -0.051532  0.270980  0.345548   \n",
       "loan    -0.071523  1.000000  0.229546  0.337453  0.123293 -0.001463 -0.021577   \n",
       "mortdue -0.056226  0.229546  1.000000  0.873280 -0.089949 -0.053310 -0.004971   \n",
       "value   -0.050254  0.337453  0.873280  1.000000  0.002501 -0.057279 -0.011014   \n",
       "yoj     -0.051532  0.123293 -0.089949  0.002501  1.000000 -0.073500  0.065401   \n",
       "derog    0.270980 -0.001463 -0.053310 -0.057279 -0.073500  1.000000  0.234706   \n",
       "delinq   0.345548 -0.021577 -0.004971 -0.011014  0.065401  0.234706  1.000000   \n",
       "clage   -0.150367  0.089030  0.141236  0.182226  0.184283 -0.083755  0.044245   \n",
       "ninq     0.174759  0.048633  0.029452 -0.005191 -0.067735  0.163750  0.081166   \n",
       "clno    -0.008981  0.092377  0.340139  0.290439  0.017809  0.048631  0.151996   \n",
       "debtinc  0.236738  0.093636  0.167358  0.134187 -0.052290  0.032324  0.076943   \n",
       "\n",
       "            clage      ninq      clno   debtinc  \n",
       "bad     -0.150367  0.174759 -0.008981  0.236738  \n",
       "loan     0.089030  0.048633  0.092377  0.093636  \n",
       "mortdue  0.141236  0.029452  0.340139  0.167358  \n",
       "value    0.182226 -0.005191  0.290439  0.134187  \n",
       "yoj      0.184283 -0.067735  0.017809 -0.052290  \n",
       "derog   -0.083755  0.163750  0.048631  0.032324  \n",
       "delinq   0.044245  0.081166  0.151996  0.076943  \n",
       "clage    1.000000 -0.113367  0.221071 -0.042852  \n",
       "ninq    -0.113367  1.000000  0.097669  0.133751  \n",
       "clno     0.221071  0.097669  1.000000  0.180983  \n",
       "debtinc -0.042852  0.133751  0.180983  1.000000  "
      ]
     },
     "execution_count": 4,
     "metadata": {},
     "output_type": "execute_result"
    }
   ],
   "source": [
    "data.corr()"
   ]
  },
  {
   "cell_type": "markdown",
   "metadata": {},
   "source": [
    "#### datada geçen özellikler ile ilgili açıklamalar"
   ]
  },
  {
   "cell_type": "markdown",
   "metadata": {},
   "source": [
    "Historical data were gathered from bank customers to determine whether\n",
    "a customer is a good or bad credit risk for a home equity loan. Bad risk\n",
    "customers are more likely to default on the loan.\n",
    "\n",
    "BAD:The response(or Y) variable is BAD, which is coded as 0 (good risk) or 1 (bad risk).\n",
    "LOAN: The amount of the loan requested (talep edilen kredi miktarı)\n",
    "MORTDUE: How much the customer needs to pay on their mortgage (mevcut mortgage borçları)\n",
    "VALUE: value of current property (mevcut mülkün değeri)\n",
    "REASON: Debt consolidation or home improvement (DebtCon or HomeImp) (Ödemesi gelen borcu ertelemek için alınan kredi)\n",
    "JOB: Broad job category\n",
    "YOJ: Years on the job (şuan ki işindeki yılı)\n",
    "DEROG: Number of derogatory reports (olumsuzluk raporu)\n",
    "DELINQ: The number of delinquent trade lines (Ödenmemiş kredi limiti sayısı)\n",
    "CLAGE: Age of oldest trade line (oldest tradeline= credit account)(aylar içinde en eski kredi limitinin yaşı)\n",
    "NINQ: Number of recent credit inquiries (Son kredi sorgularının sayısı)\n",
    "CLNO: Number of credit limits\n",
    "DEBTINC: Debt to income ratio (Borç/Gelir oranı aylık)"
   ]
  },
  {
   "cell_type": "markdown",
   "metadata": {},
   "source": [
    "Debt Consolidation : Borç konsolidasyonu terimi, genel olarak teminatsız olan diğer yükümlülükleri ve tüketici borçlarını ödemek için yeni bir kredi alma eylemini ifade eder. Birden çok borç, genellikle daha uygun ödeme koşullarıyla, tek ve daha büyük bir borç parçası halinde birleştirilir. Uygun ödeme koşulları daha düşük bir faiz oranı, daha düşük aylık ödeme veya her ikisini de içerir. Tüketiciler, borç konsolidasyonunu öğrenci kredi borcu, kredi kartı borcu ve diğer borçlarla başa çıkmak için bir araç olarak kullanabilirler."
   ]
  },
  {
   "cell_type": "code",
   "execution_count": 28,
   "metadata": {},
   "outputs": [
    {
     "name": "stdout",
     "output_type": "stream",
     "text": [
      "<class 'pandas.core.frame.DataFrame'>\n",
      "RangeIndex: 3576 entries, 0 to 3575\n",
      "Data columns (total 13 columns):\n",
      " #   Column   Non-Null Count  Dtype  \n",
      "---  ------   --------------  -----  \n",
      " 0   bad      3576 non-null   int64  \n",
      " 1   loan     3576 non-null   int64  \n",
      " 2   mortdue  3262 non-null   float64\n",
      " 3   value    3512 non-null   float64\n",
      " 4   reason   3429 non-null   object \n",
      " 5   job      3409 non-null   object \n",
      " 6   yoj      3264 non-null   float64\n",
      " 7   derog    3149 non-null   float64\n",
      " 8   delinq   3225 non-null   float64\n",
      " 9   clage    3397 non-null   float64\n",
      " 10  ninq     3273 non-null   float64\n",
      " 11  clno     3443 non-null   float64\n",
      " 12  debtinc  2809 non-null   float64\n",
      "dtypes: float64(9), int64(2), object(2)\n",
      "memory usage: 335.3+ KB\n"
     ]
    }
   ],
   "source": [
    "data.info()"
   ]
  },
  {
   "cell_type": "code",
   "execution_count": 5,
   "metadata": {},
   "outputs": [
    {
     "data": {
      "text/html": [
       "<div>\n",
       "<style scoped>\n",
       "    .dataframe tbody tr th:only-of-type {\n",
       "        vertical-align: middle;\n",
       "    }\n",
       "\n",
       "    .dataframe tbody tr th {\n",
       "        vertical-align: top;\n",
       "    }\n",
       "\n",
       "    .dataframe thead th {\n",
       "        text-align: right;\n",
       "    }\n",
       "</style>\n",
       "<table border=\"1\" class=\"dataframe\">\n",
       "  <thead>\n",
       "    <tr style=\"text-align: right;\">\n",
       "      <th></th>\n",
       "      <th>bad</th>\n",
       "      <th>loan</th>\n",
       "      <th>mortdue</th>\n",
       "      <th>value</th>\n",
       "      <th>yoj</th>\n",
       "      <th>derog</th>\n",
       "      <th>delinq</th>\n",
       "      <th>clage</th>\n",
       "      <th>ninq</th>\n",
       "      <th>clno</th>\n",
       "      <th>debtinc</th>\n",
       "    </tr>\n",
       "  </thead>\n",
       "  <tbody>\n",
       "    <tr>\n",
       "      <th>count</th>\n",
       "      <td>3576.000000</td>\n",
       "      <td>3576.000000</td>\n",
       "      <td>3262.000000</td>\n",
       "      <td>3512.000000</td>\n",
       "      <td>3264.000000</td>\n",
       "      <td>3149.000000</td>\n",
       "      <td>3225.000000</td>\n",
       "      <td>3397.000000</td>\n",
       "      <td>3273.000000</td>\n",
       "      <td>3443.000000</td>\n",
       "      <td>2809.000000</td>\n",
       "    </tr>\n",
       "    <tr>\n",
       "      <th>mean</th>\n",
       "      <td>0.199385</td>\n",
       "      <td>18529.697987</td>\n",
       "      <td>74013.907992</td>\n",
       "      <td>101076.922759</td>\n",
       "      <td>8.832644</td>\n",
       "      <td>0.261670</td>\n",
       "      <td>0.432558</td>\n",
       "      <td>179.832529</td>\n",
       "      <td>1.186373</td>\n",
       "      <td>21.507116</td>\n",
       "      <td>33.831737</td>\n",
       "    </tr>\n",
       "    <tr>\n",
       "      <th>std</th>\n",
       "      <td>0.399594</td>\n",
       "      <td>11262.834060</td>\n",
       "      <td>44016.833772</td>\n",
       "      <td>54865.275351</td>\n",
       "      <td>7.568046</td>\n",
       "      <td>0.865178</td>\n",
       "      <td>1.099230</td>\n",
       "      <td>87.066198</td>\n",
       "      <td>1.728723</td>\n",
       "      <td>10.167490</td>\n",
       "      <td>9.061837</td>\n",
       "    </tr>\n",
       "    <tr>\n",
       "      <th>min</th>\n",
       "      <td>0.000000</td>\n",
       "      <td>1100.000000</td>\n",
       "      <td>2619.000000</td>\n",
       "      <td>8800.000000</td>\n",
       "      <td>0.000000</td>\n",
       "      <td>0.000000</td>\n",
       "      <td>0.000000</td>\n",
       "      <td>0.490000</td>\n",
       "      <td>0.000000</td>\n",
       "      <td>0.000000</td>\n",
       "      <td>0.720000</td>\n",
       "    </tr>\n",
       "    <tr>\n",
       "      <th>25%</th>\n",
       "      <td>0.000000</td>\n",
       "      <td>11000.000000</td>\n",
       "      <td>46700.250000</td>\n",
       "      <td>65753.000000</td>\n",
       "      <td>3.000000</td>\n",
       "      <td>0.000000</td>\n",
       "      <td>0.000000</td>\n",
       "      <td>115.600000</td>\n",
       "      <td>0.000000</td>\n",
       "      <td>15.000000</td>\n",
       "      <td>29.140000</td>\n",
       "    </tr>\n",
       "    <tr>\n",
       "      <th>50%</th>\n",
       "      <td>0.000000</td>\n",
       "      <td>16200.000000</td>\n",
       "      <td>65858.000000</td>\n",
       "      <td>89183.000000</td>\n",
       "      <td>7.000000</td>\n",
       "      <td>0.000000</td>\n",
       "      <td>0.000000</td>\n",
       "      <td>173.640000</td>\n",
       "      <td>1.000000</td>\n",
       "      <td>20.000000</td>\n",
       "      <td>34.747000</td>\n",
       "    </tr>\n",
       "    <tr>\n",
       "      <th>75%</th>\n",
       "      <td>0.000000</td>\n",
       "      <td>23100.000000</td>\n",
       "      <td>91717.000000</td>\n",
       "      <td>118928.250000</td>\n",
       "      <td>13.000000</td>\n",
       "      <td>0.000000</td>\n",
       "      <td>0.000000</td>\n",
       "      <td>230.710000</td>\n",
       "      <td>2.000000</td>\n",
       "      <td>26.000000</td>\n",
       "      <td>38.940000</td>\n",
       "    </tr>\n",
       "    <tr>\n",
       "      <th>max</th>\n",
       "      <td>1.000000</td>\n",
       "      <td>89900.000000</td>\n",
       "      <td>399550.000000</td>\n",
       "      <td>850000.000000</td>\n",
       "      <td>41.000000</td>\n",
       "      <td>10.000000</td>\n",
       "      <td>15.000000</td>\n",
       "      <td>1168.230000</td>\n",
       "      <td>17.000000</td>\n",
       "      <td>71.000000</td>\n",
       "      <td>203.312000</td>\n",
       "    </tr>\n",
       "  </tbody>\n",
       "</table>\n",
       "</div>"
      ],
      "text/plain": [
       "               bad          loan        mortdue          value          yoj  \\\n",
       "count  3576.000000   3576.000000    3262.000000    3512.000000  3264.000000   \n",
       "mean      0.199385  18529.697987   74013.907992  101076.922759     8.832644   \n",
       "std       0.399594  11262.834060   44016.833772   54865.275351     7.568046   \n",
       "min       0.000000   1100.000000    2619.000000    8800.000000     0.000000   \n",
       "25%       0.000000  11000.000000   46700.250000   65753.000000     3.000000   \n",
       "50%       0.000000  16200.000000   65858.000000   89183.000000     7.000000   \n",
       "75%       0.000000  23100.000000   91717.000000  118928.250000    13.000000   \n",
       "max       1.000000  89900.000000  399550.000000  850000.000000    41.000000   \n",
       "\n",
       "             derog       delinq        clage         ninq         clno  \\\n",
       "count  3149.000000  3225.000000  3397.000000  3273.000000  3443.000000   \n",
       "mean      0.261670     0.432558   179.832529     1.186373    21.507116   \n",
       "std       0.865178     1.099230    87.066198     1.728723    10.167490   \n",
       "min       0.000000     0.000000     0.490000     0.000000     0.000000   \n",
       "25%       0.000000     0.000000   115.600000     0.000000    15.000000   \n",
       "50%       0.000000     0.000000   173.640000     1.000000    20.000000   \n",
       "75%       0.000000     0.000000   230.710000     2.000000    26.000000   \n",
       "max      10.000000    15.000000  1168.230000    17.000000    71.000000   \n",
       "\n",
       "           debtinc  \n",
       "count  2809.000000  \n",
       "mean     33.831737  \n",
       "std       9.061837  \n",
       "min       0.720000  \n",
       "25%      29.140000  \n",
       "50%      34.747000  \n",
       "75%      38.940000  \n",
       "max     203.312000  "
      ]
     },
     "execution_count": 5,
     "metadata": {},
     "output_type": "execute_result"
    }
   ],
   "source": [
    "data.describe()"
   ]
  },
  {
   "cell_type": "markdown",
   "metadata": {},
   "source": [
    "#### bad değerleri sayıları"
   ]
  },
  {
   "cell_type": "code",
   "execution_count": 135,
   "metadata": {},
   "outputs": [
    {
     "data": {
      "text/plain": [
       "0    1840\n",
       "1     178\n",
       "Name: bad, dtype: int64"
      ]
     },
     "execution_count": 135,
     "metadata": {},
     "output_type": "execute_result"
    }
   ],
   "source": [
    "data[\"bad\"].value_counts()"
   ]
  },
  {
   "cell_type": "code",
   "execution_count": 11,
   "metadata": {},
   "outputs": [
    {
     "data": {
      "text/plain": [
       "<matplotlib.collections.PathCollection at 0x1dc87598>"
      ]
     },
     "execution_count": 11,
     "metadata": {},
     "output_type": "execute_result"
    },
    {
     "data": {
      "image/png": "[encoded data removed]",
      "text/plain": [
       "<Figure size 432x288 with 1 Axes>"
      ]
     },
     "metadata": {
      "needs_background": "light"
     },
     "output_type": "display_data"
    }
   ],
   "source": [
    "#mevcut varlıkların değerleri ile ödemesi gereken mortgage arasında pozitif korelasyon olduğu görülüyor\n",
    "\n",
    "plt.scatter(x='mortdue', y='value', data=data)"
   ]
  },
  {
   "cell_type": "code",
   "execution_count": 29,
   "metadata": {},
   "outputs": [
    {
     "data": {
      "text/plain": [
       "<matplotlib.collections.PathCollection at 0x29cd8820>"
      ]
     },
     "execution_count": 29,
     "metadata": {},
     "output_type": "execute_result"
    },
    {
     "data": {
      "image/png": "[encoded data removed]",
      "text/plain": [
       "<Figure size 432x288 with 1 Axes>"
      ]
     },
     "metadata": {
      "needs_background": "light"
     },
     "output_type": "display_data"
    }
   ],
   "source": [
    "plt.scatter(x='loan', y='value', data=data)"
   ]
  },
  {
   "cell_type": "code",
   "execution_count": 85,
   "metadata": {},
   "outputs": [
    {
     "data": {
      "text/plain": [
       "<matplotlib.collections.PathCollection at 0x2d135b38>"
      ]
     },
     "execution_count": 85,
     "metadata": {},
     "output_type": "execute_result"
    },
    {
     "data": {
      "image/png": "[encoded data removed]",
      "text/plain": [
       "<Figure size 432x288 with 1 Axes>"
      ]
     },
     "metadata": {
      "needs_background": "light"
     },
     "output_type": "display_data"
    }
   ],
   "source": [
    "plt.scatter(x='mortdue', y='loan', data=data)"
   ]
  },
  {
   "cell_type": "code",
   "execution_count": 110,
   "metadata": {},
   "outputs": [
    {
     "data": {
      "image/png": "[encoded data removed]",
      "text/plain": [
       "<Figure size 432x288 with 1 Axes>"
      ]
     },
     "metadata": {
      "needs_background": "light"
     },
     "output_type": "display_data"
    }
   ],
   "source": [
    "\n",
    "colors = {0:'g', 1:'r'}\n",
    "\n",
    "fig, ax = plt.subplots()\n",
    "\n",
    "for i in range(len(data['mortdue'])):\n",
    "    ax.scatter(data['mortdue'][i], data['loan'][i],color=colors[data['bad'][i]])\n"
   ]
  },
  {
   "cell_type": "code",
   "execution_count": 111,
   "metadata": {},
   "outputs": [
    {
     "data": {
      "image/png": "[encoded data removed]",
      "text/plain": [
       "<Figure size 432x288 with 1 Axes>"
      ]
     },
     "metadata": {
      "needs_background": "light"
     },
     "output_type": "display_data"
    }
   ],
   "source": [
    "\n",
    "colors = {0:'g', 1:'r'}\n",
    "\n",
    "fig, ax = plt.subplots()\n",
    "\n",
    "for i in range(len(data['loan'])):\n",
    "    ax.scatter(data['loan'][i], data['value'][i],color=colors[data['bad'][i]])"
   ]
  },
  {
   "cell_type": "markdown",
   "metadata": {},
   "source": [
    "#### outliers gözlemlenebilir."
   ]
  },
  {
   "cell_type": "code",
   "execution_count": 15,
   "metadata": {},
   "outputs": [
    {
     "data": {
      "image/png": "[encoded data removed]",
      "text/plain": [
       "<Figure size 432x288 with 1 Axes>"
      ]
     },
     "metadata": {
      "needs_background": "light"
     },
     "output_type": "display_data"
    }
   ],
   "source": [
    "sns.boxplot(data[\"mortdue\"])\n",
    "plt.show()"
   ]
  },
  {
   "cell_type": "code",
   "execution_count": 16,
   "metadata": {},
   "outputs": [
    {
     "data": {
      "image/png": "[encoded data removed]",
      "text/plain": [
       "<Figure size 432x288 with 1 Axes>"
      ]
     },
     "metadata": {
      "needs_background": "light"
     },
     "output_type": "display_data"
    }
   ],
   "source": [
    "sns.boxplot(data[\"value\"])\n",
    "plt.show()"
   ]
  },
  {
   "cell_type": "code",
   "execution_count": 17,
   "metadata": {},
   "outputs": [
    {
     "data": {
      "text/plain": [
       "bad\n",
       "0    75242.395117\n",
       "1    69029.488140\n",
       "Name: mortdue, dtype: float64"
      ]
     },
     "execution_count": 17,
     "metadata": {},
     "output_type": "execute_result"
    }
   ],
   "source": [
    "data.groupby(\"bad\")[\"mortdue\"].mean()"
   ]
  },
  {
   "cell_type": "code",
   "execution_count": 87,
   "metadata": {},
   "outputs": [
    {
     "data": {
      "text/html": [
       "<div>\n",
       "<style scoped>\n",
       "    .dataframe tbody tr th:only-of-type {\n",
       "        vertical-align: middle;\n",
       "    }\n",
       "\n",
       "    .dataframe tbody tr th {\n",
       "        vertical-align: top;\n",
       "    }\n",
       "\n",
       "    .dataframe thead th {\n",
       "        text-align: right;\n",
       "    }\n",
       "</style>\n",
       "<table border=\"1\" class=\"dataframe\">\n",
       "  <thead>\n",
       "    <tr style=\"text-align: right;\">\n",
       "      <th></th>\n",
       "      <th>count</th>\n",
       "      <th>mean</th>\n",
       "      <th>std</th>\n",
       "      <th>min</th>\n",
       "      <th>25%</th>\n",
       "      <th>50%</th>\n",
       "      <th>75%</th>\n",
       "      <th>max</th>\n",
       "    </tr>\n",
       "    <tr>\n",
       "      <th>bad</th>\n",
       "      <th></th>\n",
       "      <th></th>\n",
       "      <th></th>\n",
       "      <th></th>\n",
       "      <th></th>\n",
       "      <th></th>\n",
       "      <th></th>\n",
       "      <th></th>\n",
       "    </tr>\n",
       "  </thead>\n",
       "  <tbody>\n",
       "    <tr>\n",
       "      <th>0</th>\n",
       "      <td>2617.0</td>\n",
       "      <td>75242.395117</td>\n",
       "      <td>42983.671462</td>\n",
       "      <td>2619.0</td>\n",
       "      <td>48139.0</td>\n",
       "      <td>67389.0</td>\n",
       "      <td>93309.0</td>\n",
       "      <td>369874.0</td>\n",
       "    </tr>\n",
       "    <tr>\n",
       "      <th>1</th>\n",
       "      <td>645.0</td>\n",
       "      <td>69029.488140</td>\n",
       "      <td>47692.765434</td>\n",
       "      <td>2800.0</td>\n",
       "      <td>38986.0</td>\n",
       "      <td>60000.0</td>\n",
       "      <td>84900.0</td>\n",
       "      <td>399550.0</td>\n",
       "    </tr>\n",
       "  </tbody>\n",
       "</table>\n",
       "</div>"
      ],
      "text/plain": [
       "      count          mean           std     min      25%      50%      75%  \\\n",
       "bad                                                                          \n",
       "0    2617.0  75242.395117  42983.671462  2619.0  48139.0  67389.0  93309.0   \n",
       "1     645.0  69029.488140  47692.765434  2800.0  38986.0  60000.0  84900.0   \n",
       "\n",
       "          max  \n",
       "bad            \n",
       "0    369874.0  \n",
       "1    399550.0  "
      ]
     },
     "execution_count": 87,
     "metadata": {},
     "output_type": "execute_result"
    }
   ],
   "source": [
    "data.groupby(\"bad\")[\"mortdue\"].describe()"
   ]
  },
  {
   "cell_type": "markdown",
   "metadata": {},
   "source": [
    "####  kredinin malvarlığı ile bağlantısı olmadığı düşünülebilir.ortalamaya bakıldığında iyi puanlama alanların mal varlığı ortalaması daha fazla olduğu görülüyor. ama max malvarlığına sahip biri bad olarak değerlendirilmiş"
   ]
  },
  {
   "cell_type": "code",
   "execution_count": 88,
   "metadata": {},
   "outputs": [
    {
     "data": {
      "text/html": [
       "<div>\n",
       "<style scoped>\n",
       "    .dataframe tbody tr th:only-of-type {\n",
       "        vertical-align: middle;\n",
       "    }\n",
       "\n",
       "    .dataframe tbody tr th {\n",
       "        vertical-align: top;\n",
       "    }\n",
       "\n",
       "    .dataframe thead th {\n",
       "        text-align: right;\n",
       "    }\n",
       "</style>\n",
       "<table border=\"1\" class=\"dataframe\">\n",
       "  <thead>\n",
       "    <tr style=\"text-align: right;\">\n",
       "      <th></th>\n",
       "      <th>count</th>\n",
       "      <th>mean</th>\n",
       "      <th>std</th>\n",
       "      <th>min</th>\n",
       "      <th>25%</th>\n",
       "      <th>50%</th>\n",
       "      <th>75%</th>\n",
       "      <th>max</th>\n",
       "    </tr>\n",
       "    <tr>\n",
       "      <th>bad</th>\n",
       "      <th></th>\n",
       "      <th></th>\n",
       "      <th></th>\n",
       "      <th></th>\n",
       "      <th></th>\n",
       "      <th></th>\n",
       "      <th></th>\n",
       "      <th></th>\n",
       "    </tr>\n",
       "  </thead>\n",
       "  <tbody>\n",
       "    <tr>\n",
       "      <th>0</th>\n",
       "      <td>2859.0</td>\n",
       "      <td>102394.448489</td>\n",
       "      <td>52031.226164</td>\n",
       "      <td>12414.0</td>\n",
       "      <td>67724.5</td>\n",
       "      <td>90805.0</td>\n",
       "      <td>119338.0</td>\n",
       "      <td>469748.0</td>\n",
       "    </tr>\n",
       "    <tr>\n",
       "      <th>1</th>\n",
       "      <td>653.0</td>\n",
       "      <td>95308.460184</td>\n",
       "      <td>65588.405366</td>\n",
       "      <td>8800.0</td>\n",
       "      <td>57000.0</td>\n",
       "      <td>81020.0</td>\n",
       "      <td>116160.0</td>\n",
       "      <td>850000.0</td>\n",
       "    </tr>\n",
       "  </tbody>\n",
       "</table>\n",
       "</div>"
      ],
      "text/plain": [
       "      count           mean           std      min      25%      50%       75%  \\\n",
       "bad                                                                             \n",
       "0    2859.0  102394.448489  52031.226164  12414.0  67724.5  90805.0  119338.0   \n",
       "1     653.0   95308.460184  65588.405366   8800.0  57000.0  81020.0  116160.0   \n",
       "\n",
       "          max  \n",
       "bad            \n",
       "0    469748.0  \n",
       "1    850000.0  "
      ]
     },
     "execution_count": 88,
     "metadata": {},
     "output_type": "execute_result"
    }
   ],
   "source": [
    "data.groupby(\"bad\")[\"value\"].describe()"
   ]
  },
  {
   "cell_type": "code",
   "execution_count": 18,
   "metadata": {},
   "outputs": [
    {
     "data": {
      "text/plain": [
       "bad\n",
       "0    102394.448489\n",
       "1     95308.460184\n",
       "Name: value, dtype: float64"
      ]
     },
     "execution_count": 18,
     "metadata": {},
     "output_type": "execute_result"
    }
   ],
   "source": [
    "data.groupby(\"bad\")[\"value\"].mean()"
   ]
  },
  {
   "cell_type": "code",
   "execution_count": 19,
   "metadata": {},
   "outputs": [
    {
     "data": {
      "text/plain": [
       "bad\n",
       "0    18931.645127\n",
       "1    16915.708275\n",
       "Name: loan, dtype: float64"
      ]
     },
     "execution_count": 19,
     "metadata": {},
     "output_type": "execute_result"
    }
   ],
   "source": [
    "data.groupby(\"bad\")[\"loan\"].mean()"
   ]
  },
  {
   "cell_type": "code",
   "execution_count": 23,
   "metadata": {},
   "outputs": [
    {
     "data": {
      "text/plain": [
       "bad\n",
       "0    0.140732\n",
       "1    0.716012\n",
       "Name: derog, dtype: float64"
      ]
     },
     "execution_count": 23,
     "metadata": {},
     "output_type": "execute_result"
    }
   ],
   "source": [
    "#uygunsuz rapor sayıları kötü puanlamada etkili gibi gözüküyor\n",
    "\n",
    "data.groupby(\"bad\")[\"derog\"].mean()"
   ]
  },
  {
   "cell_type": "code",
   "execution_count": 24,
   "metadata": {},
   "outputs": [
    {
     "data": {
      "text/plain": [
       "bad\n",
       "0    0.238263\n",
       "1    1.174888\n",
       "Name: delinq, dtype: float64"
      ]
     },
     "execution_count": 24,
     "metadata": {},
     "output_type": "execute_result"
    }
   ],
   "source": [
    "#geciktirme sayıları kötü puanlamada etkili gibi gözüküyor\n",
    "\n",
    "data.groupby(\"bad\")[\"delinq\"].mean()"
   ]
  },
  {
   "cell_type": "code",
   "execution_count": 26,
   "metadata": {},
   "outputs": [
    {
     "data": {
      "text/plain": [
       "bad\n",
       "0    33.179142\n",
       "1    40.881416\n",
       "Name: debtinc, dtype: float64"
      ]
     },
     "execution_count": 26,
     "metadata": {},
     "output_type": "execute_result"
    }
   ],
   "source": [
    "# kötü not alanların borç/gelir oranı fazla\n",
    "\n",
    "data.groupby(\"bad\")[\"debtinc\"].mean()"
   ]
  },
  {
   "cell_type": "code",
   "execution_count": 27,
   "metadata": {},
   "outputs": [
    {
     "data": {
      "image/png": "[encoded data removed]",
      "text/plain": [
       "<Figure size 288x288 with 1 Axes>"
      ]
     },
     "metadata": {
      "needs_background": "light"
     },
     "output_type": "display_data"
    },
    {
     "data": {
      "text/plain": [
       "<matplotlib.image.AxesImage at 0x29c9ef88>"
      ]
     },
     "execution_count": 27,
     "metadata": {},
     "output_type": "execute_result"
    },
    {
     "data": {
      "image/png": "[encoded data removed]",
      "text/plain": [
       "<Figure size 288x288 with 1 Axes>"
      ]
     },
     "metadata": {
      "needs_background": "light"
     },
     "output_type": "display_data"
    }
   ],
   "source": [
    "plt.matshow(data.corr())\n",
    "plt.show()\n",
    "plt.matshow(data.corr(),cmap='coolwarm')"
   ]
  },
  {
   "cell_type": "code",
   "execution_count": 114,
   "metadata": {},
   "outputs": [
    {
     "data": {
      "image/png": "[encoded data removed]",
      "text/plain": [
       "<Figure size 432x288 with 2 Axes>"
      ]
     },
     "metadata": {
      "needs_background": "light"
     },
     "output_type": "display_data"
    }
   ],
   "source": [
    "sns.heatmap(data.corr(), annot=True, linewidths=0.05, fmt= '.2f',cmap=\"magma\")\n",
    "plt.show()"
   ]
  },
  {
   "cell_type": "code",
   "execution_count": 33,
   "metadata": {},
   "outputs": [
    {
     "data": {
      "text/plain": [
       "1937481655.3034937"
      ]
     },
     "execution_count": 33,
     "metadata": {},
     "output_type": "execute_result"
    }
   ],
   "source": [
    "data[\"mortdue\"].var()"
   ]
  },
  {
   "cell_type": "code",
   "execution_count": 34,
   "metadata": {},
   "outputs": [
    {
     "data": {
      "text/plain": [
       "bad        1.596751e-01\n",
       "loan       1.268514e+08\n",
       "mortdue    1.937482e+09\n",
       "value      3.010198e+09\n",
       "yoj        5.727532e+01\n",
       "derog      7.485335e-01\n",
       "delinq     1.208307e+00\n",
       "clage      7.580523e+03\n",
       "ninq       2.988482e+00\n",
       "clno       1.033779e+02\n",
       "debtinc    8.211688e+01\n",
       "dtype: float64"
      ]
     },
     "execution_count": 34,
     "metadata": {},
     "output_type": "execute_result"
    }
   ],
   "source": [
    "data.var()"
   ]
  },
  {
   "cell_type": "code",
   "execution_count": 42,
   "metadata": {},
   "outputs": [
    {
     "data": {
      "text/plain": [
       "<matplotlib.axes._subplots.AxesSubplot at 0x29d5eb68>"
      ]
     },
     "execution_count": 42,
     "metadata": {},
     "output_type": "execute_result"
    },
    {
     "data": {
      "image/png": "[encoded data removed]",
      "text/plain": [
       "<Figure size 432x288 with 1 Axes>"
      ]
     },
     "metadata": {
      "needs_background": "light"
     },
     "output_type": "display_data"
    }
   ],
   "source": [
    "np.log(data[\"value\"]).hist()"
   ]
  },
  {
   "cell_type": "code",
   "execution_count": 43,
   "metadata": {},
   "outputs": [
    {
     "data": {
      "text/plain": [
       "<matplotlib.axes._subplots.AxesSubplot at 0x29dedd60>"
      ]
     },
     "execution_count": 43,
     "metadata": {},
     "output_type": "execute_result"
    },
    {
     "data": {
      "image/png": "[encoded data removed]",
      "text/plain": [
       "<Figure size 432x288 with 1 Axes>"
      ]
     },
     "metadata": {
      "needs_background": "light"
     },
     "output_type": "display_data"
    }
   ],
   "source": [
    "np.log(data[\"mortdue\"]).hist()"
   ]
  },
  {
   "cell_type": "code",
   "execution_count": 54,
   "metadata": {},
   "outputs": [
    {
     "data": {
      "image/png": "[encoded data removed]",
      "text/plain": [
       "<Figure size 1296x720 with 2 Axes>"
      ]
     },
     "metadata": {
      "needs_background": "light"
     },
     "output_type": "display_data"
    }
   ],
   "source": [
    "fig, ax = plt.subplots(1, 2, figsize = (18, 10))\n",
    "\n",
    "data[data[\"bad\"] == 0][\"mortdue\"].plot.hist(ax = ax[0], bins = 30, edgecolor = \"black\", color = \"green\")\n",
    "ax[0].set_title(\"good section\")\n",
    "\n",
    "\n",
    "data[data[\"bad\"] == 1 ][\"mortdue\"].plot.hist(ax = ax[1], bins = 30, edgecolor = \"black\", color = \"red\")\n",
    "ax[1].set_title(\"bad section\")\n",
    "plt.show()"
   ]
  },
  {
   "cell_type": "code",
   "execution_count": 134,
   "metadata": {},
   "outputs": [
    {
     "data": {
      "image/png": "[encoded data removed]",
      "text/plain": [
       "<Figure size 1296x720 with 2 Axes>"
      ]
     },
     "metadata": {
      "needs_background": "light"
     },
     "output_type": "display_data"
    }
   ],
   "source": [
    "fig, ax = plt.subplots(1, 2, figsize = (18, 10))\n",
    "\n",
    "data[data[\"bad\"] == 0][\"value\"].plot.hist(ax = ax[0], bins = 30, edgecolor = \"black\", color = \"green\")\n",
    "ax[0].set_title(\"good section\")\n",
    "\n",
    "\n",
    "data[data[\"bad\"] == 1 ][\"value\"].plot.hist(ax = ax[1], bins = 30, edgecolor = \"black\", color = \"red\")\n",
    "ax[1].set_title(\"bad section\")\n",
    "plt.show()"
   ]
  },
  {
   "cell_type": "code",
   "execution_count": 62,
   "metadata": {},
   "outputs": [
    {
     "name": "stdout",
     "output_type": "stream",
     "text": [
      "reason\n",
      "DebtCon    17900\n",
      "HomeImp    12600\n",
      "Name: loan, dtype: int64\n",
      "--------------------------------\n",
      "reason\n",
      "DebtCon    19868.705188\n",
      "HomeImp    15892.911153\n",
      "Name: loan, dtype: float64\n"
     ]
    }
   ],
   "source": [
    "print(data.groupby(\"reason\")[\"loan\"].median())\n",
    "print(\"--------------------------------\")\n",
    "print(data.groupby(\"reason\")[\"loan\"].mean())"
   ]
  },
  {
   "cell_type": "code",
   "execution_count": 77,
   "metadata": {},
   "outputs": [
    {
     "data": {
      "text/html": [
       "<div>\n",
       "<style scoped>\n",
       "    .dataframe tbody tr th:only-of-type {\n",
       "        vertical-align: middle;\n",
       "    }\n",
       "\n",
       "    .dataframe tbody tr th {\n",
       "        vertical-align: top;\n",
       "    }\n",
       "\n",
       "    .dataframe thead th {\n",
       "        text-align: right;\n",
       "    }\n",
       "</style>\n",
       "<table border=\"1\" class=\"dataframe\">\n",
       "  <thead>\n",
       "    <tr style=\"text-align: right;\">\n",
       "      <th></th>\n",
       "      <th>bad</th>\n",
       "      <th>reason</th>\n",
       "    </tr>\n",
       "  </thead>\n",
       "  <tbody>\n",
       "    <tr>\n",
       "      <th>0</th>\n",
       "      <td>0</td>\n",
       "      <td>HomeImp</td>\n",
       "    </tr>\n",
       "    <tr>\n",
       "      <th>1</th>\n",
       "      <td>0</td>\n",
       "      <td>DebtCon</td>\n",
       "    </tr>\n",
       "    <tr>\n",
       "      <th>2</th>\n",
       "      <td>0</td>\n",
       "      <td>DebtCon</td>\n",
       "    </tr>\n",
       "    <tr>\n",
       "      <th>3</th>\n",
       "      <td>0</td>\n",
       "      <td>DebtCon</td>\n",
       "    </tr>\n",
       "    <tr>\n",
       "      <th>4</th>\n",
       "      <td>0</td>\n",
       "      <td>DebtCon</td>\n",
       "    </tr>\n",
       "    <tr>\n",
       "      <th>...</th>\n",
       "      <td>...</td>\n",
       "      <td>...</td>\n",
       "    </tr>\n",
       "    <tr>\n",
       "      <th>3571</th>\n",
       "      <td>1</td>\n",
       "      <td>DebtCon</td>\n",
       "    </tr>\n",
       "    <tr>\n",
       "      <th>3572</th>\n",
       "      <td>1</td>\n",
       "      <td>DebtCon</td>\n",
       "    </tr>\n",
       "    <tr>\n",
       "      <th>3573</th>\n",
       "      <td>1</td>\n",
       "      <td>DebtCon</td>\n",
       "    </tr>\n",
       "    <tr>\n",
       "      <th>3574</th>\n",
       "      <td>1</td>\n",
       "      <td>HomeImp</td>\n",
       "    </tr>\n",
       "    <tr>\n",
       "      <th>3575</th>\n",
       "      <td>1</td>\n",
       "      <td>DebtCon</td>\n",
       "    </tr>\n",
       "  </tbody>\n",
       "</table>\n",
       "<p>3576 rows × 2 columns</p>\n",
       "</div>"
      ],
      "text/plain": [
       "      bad   reason\n",
       "0       0  HomeImp\n",
       "1       0  DebtCon\n",
       "2       0  DebtCon\n",
       "3       0  DebtCon\n",
       "4       0  DebtCon\n",
       "...   ...      ...\n",
       "3571    1  DebtCon\n",
       "3572    1  DebtCon\n",
       "3573    1  DebtCon\n",
       "3574    1  HomeImp\n",
       "3575    1  DebtCon\n",
       "\n",
       "[3576 rows x 2 columns]"
      ]
     },
     "execution_count": 77,
     "metadata": {},
     "output_type": "execute_result"
    }
   ],
   "source": [
    "bad_reason = data[[\"bad\", \"reason\"]]\n",
    "bad_reason"
   ]
  },
  {
   "cell_type": "code",
   "execution_count": 82,
   "metadata": {},
   "outputs": [
    {
     "data": {
      "text/html": [
       "<div>\n",
       "<style scoped>\n",
       "    .dataframe tbody tr th:only-of-type {\n",
       "        vertical-align: middle;\n",
       "    }\n",
       "\n",
       "    .dataframe tbody tr th {\n",
       "        vertical-align: top;\n",
       "    }\n",
       "\n",
       "    .dataframe thead th {\n",
       "        text-align: right;\n",
       "    }\n",
       "</style>\n",
       "<table border=\"1\" class=\"dataframe\">\n",
       "  <thead>\n",
       "    <tr style=\"text-align: right;\">\n",
       "      <th>reason</th>\n",
       "      <th>DebtCon</th>\n",
       "      <th>HomeImp</th>\n",
       "    </tr>\n",
       "    <tr>\n",
       "      <th>bad</th>\n",
       "      <th></th>\n",
       "      <th></th>\n",
       "    </tr>\n",
       "  </thead>\n",
       "  <tbody>\n",
       "    <tr>\n",
       "      <th>0</th>\n",
       "      <td>0.563138</td>\n",
       "      <td>0.237387</td>\n",
       "    </tr>\n",
       "    <tr>\n",
       "      <th>1</th>\n",
       "      <td>0.128317</td>\n",
       "      <td>0.071158</td>\n",
       "    </tr>\n",
       "  </tbody>\n",
       "</table>\n",
       "</div>"
      ],
      "text/plain": [
       "reason   DebtCon   HomeImp\n",
       "bad                       \n",
       "0       0.563138  0.237387\n",
       "1       0.128317  0.071158"
      ]
     },
     "execution_count": 82,
     "metadata": {},
     "output_type": "execute_result"
    }
   ],
   "source": [
    "# kötü derecelendirmesi olmayanlar borçlarını ödemek için kredi çekmiş. Sürekli borç döngüsü içerisinde oldukları için \n",
    "# kötü puanlama almamış olabilirler.\n",
    "\n",
    "_ =pd.crosstab(index=data[\"bad\"], columns=data[\"reason\"], normalize=True)\n",
    "_"
   ]
  },
  {
   "cell_type": "code",
   "execution_count": 83,
   "metadata": {},
   "outputs": [
    {
     "data": {
      "image/png": "[encoded data removed]",
      "text/plain": [
       "<Figure size 432x288 with 1 Axes>"
      ]
     },
     "metadata": {
      "needs_background": "light"
     },
     "output_type": "display_data"
    }
   ],
   "source": [
    "sns.countplot(\"bad\", hue=\"reason\", data=data)\n",
    "plt.show()"
   ]
  },
  {
   "cell_type": "code",
   "execution_count": 146,
   "metadata": {},
   "outputs": [
    {
     "data": {
      "text/html": [
       "<div>\n",
       "<style scoped>\n",
       "    .dataframe tbody tr th:only-of-type {\n",
       "        vertical-align: middle;\n",
       "    }\n",
       "\n",
       "    .dataframe tbody tr th {\n",
       "        vertical-align: top;\n",
       "    }\n",
       "\n",
       "    .dataframe thead th {\n",
       "        text-align: right;\n",
       "    }\n",
       "</style>\n",
       "<table border=\"1\" class=\"dataframe\">\n",
       "  <thead>\n",
       "    <tr style=\"text-align: right;\">\n",
       "      <th></th>\n",
       "      <th>level_0</th>\n",
       "      <th>index</th>\n",
       "      <th>bad</th>\n",
       "      <th>loan</th>\n",
       "      <th>mortdue</th>\n",
       "      <th>value</th>\n",
       "      <th>reason</th>\n",
       "      <th>job</th>\n",
       "      <th>yoj</th>\n",
       "      <th>derog</th>\n",
       "      <th>delinq</th>\n",
       "      <th>clage</th>\n",
       "      <th>ninq</th>\n",
       "      <th>clno</th>\n",
       "      <th>debtinc</th>\n",
       "    </tr>\n",
       "  </thead>\n",
       "  <tbody>\n",
       "    <tr>\n",
       "      <th>0</th>\n",
       "      <td>0</td>\n",
       "      <td>153</td>\n",
       "      <td>0</td>\n",
       "      <td>18200</td>\n",
       "      <td>94727.0</td>\n",
       "      <td>136877.0</td>\n",
       "      <td>DebtCon</td>\n",
       "      <td>Mgr</td>\n",
       "      <td>15.0</td>\n",
       "      <td>0.0</td>\n",
       "      <td>0.0</td>\n",
       "      <td>168.96</td>\n",
       "      <td>2.0</td>\n",
       "      <td>26.0</td>\n",
       "      <td>36.056</td>\n",
       "    </tr>\n",
       "    <tr>\n",
       "      <th>1</th>\n",
       "      <td>1</td>\n",
       "      <td>154</td>\n",
       "      <td>0</td>\n",
       "      <td>21700</td>\n",
       "      <td>79240.0</td>\n",
       "      <td>96784.0</td>\n",
       "      <td>DebtCon</td>\n",
       "      <td>Mgr</td>\n",
       "      <td>5.0</td>\n",
       "      <td>0.0</td>\n",
       "      <td>0.0</td>\n",
       "      <td>64.51</td>\n",
       "      <td>6.0</td>\n",
       "      <td>24.0</td>\n",
       "      <td>38.079</td>\n",
       "    </tr>\n",
       "    <tr>\n",
       "      <th>2</th>\n",
       "      <td>2</td>\n",
       "      <td>155</td>\n",
       "      <td>0</td>\n",
       "      <td>34100</td>\n",
       "      <td>241931.0</td>\n",
       "      <td>36486.0</td>\n",
       "      <td>DebtCon</td>\n",
       "      <td>Mgr</td>\n",
       "      <td>1.0</td>\n",
       "      <td>0.0</td>\n",
       "      <td>2.0</td>\n",
       "      <td>196.01</td>\n",
       "      <td>3.0</td>\n",
       "      <td>50.0</td>\n",
       "      <td>42.459</td>\n",
       "    </tr>\n",
       "    <tr>\n",
       "      <th>3</th>\n",
       "      <td>3</td>\n",
       "      <td>156</td>\n",
       "      <td>0</td>\n",
       "      <td>8400</td>\n",
       "      <td>62989.0</td>\n",
       "      <td>76718.0</td>\n",
       "      <td>HomeImp</td>\n",
       "      <td>Mgr</td>\n",
       "      <td>3.0</td>\n",
       "      <td>0.0</td>\n",
       "      <td>2.0</td>\n",
       "      <td>131.47</td>\n",
       "      <td>0.0</td>\n",
       "      <td>22.0</td>\n",
       "      <td>29.200</td>\n",
       "    </tr>\n",
       "    <tr>\n",
       "      <th>4</th>\n",
       "      <td>4</td>\n",
       "      <td>157</td>\n",
       "      <td>0</td>\n",
       "      <td>17400</td>\n",
       "      <td>25859.0</td>\n",
       "      <td>43684.0</td>\n",
       "      <td>DebtCon</td>\n",
       "      <td>Mgr</td>\n",
       "      <td>16.0</td>\n",
       "      <td>1.0</td>\n",
       "      <td>0.0</td>\n",
       "      <td>95.36</td>\n",
       "      <td>1.0</td>\n",
       "      <td>17.0</td>\n",
       "      <td>27.108</td>\n",
       "    </tr>\n",
       "    <tr>\n",
       "      <th>...</th>\n",
       "      <td>...</td>\n",
       "      <td>...</td>\n",
       "      <td>...</td>\n",
       "      <td>...</td>\n",
       "      <td>...</td>\n",
       "      <td>...</td>\n",
       "      <td>...</td>\n",
       "      <td>...</td>\n",
       "      <td>...</td>\n",
       "      <td>...</td>\n",
       "      <td>...</td>\n",
       "      <td>...</td>\n",
       "      <td>...</td>\n",
       "      <td>...</td>\n",
       "      <td>...</td>\n",
       "    </tr>\n",
       "    <tr>\n",
       "      <th>2013</th>\n",
       "      <td>2013</td>\n",
       "      <td>3544</td>\n",
       "      <td>1</td>\n",
       "      <td>7200</td>\n",
       "      <td>15637.0</td>\n",
       "      <td>39660.0</td>\n",
       "      <td>HomeImp</td>\n",
       "      <td>Self</td>\n",
       "      <td>6.0</td>\n",
       "      <td>0.0</td>\n",
       "      <td>1.0</td>\n",
       "      <td>354.24</td>\n",
       "      <td>3.0</td>\n",
       "      <td>42.0</td>\n",
       "      <td>33.624</td>\n",
       "    </tr>\n",
       "    <tr>\n",
       "      <th>2014</th>\n",
       "      <td>2014</td>\n",
       "      <td>3546</td>\n",
       "      <td>1</td>\n",
       "      <td>53400</td>\n",
       "      <td>228236.0</td>\n",
       "      <td>305514.0</td>\n",
       "      <td>HomeImp</td>\n",
       "      <td>Self</td>\n",
       "      <td>6.0</td>\n",
       "      <td>0.0</td>\n",
       "      <td>0.0</td>\n",
       "      <td>11.15</td>\n",
       "      <td>0.0</td>\n",
       "      <td>2.0</td>\n",
       "      <td>34.558</td>\n",
       "    </tr>\n",
       "    <tr>\n",
       "      <th>2015</th>\n",
       "      <td>2015</td>\n",
       "      <td>3547</td>\n",
       "      <td>1</td>\n",
       "      <td>27300</td>\n",
       "      <td>106221.0</td>\n",
       "      <td>137727.0</td>\n",
       "      <td>DebtCon</td>\n",
       "      <td>Self</td>\n",
       "      <td>3.0</td>\n",
       "      <td>0.0</td>\n",
       "      <td>0.0</td>\n",
       "      <td>300.57</td>\n",
       "      <td>3.0</td>\n",
       "      <td>45.0</td>\n",
       "      <td>32.560</td>\n",
       "    </tr>\n",
       "    <tr>\n",
       "      <th>2016</th>\n",
       "      <td>2016</td>\n",
       "      <td>3548</td>\n",
       "      <td>1</td>\n",
       "      <td>37300</td>\n",
       "      <td>68789.0</td>\n",
       "      <td>86172.0</td>\n",
       "      <td>HomeImp</td>\n",
       "      <td>Self</td>\n",
       "      <td>2.0</td>\n",
       "      <td>0.0</td>\n",
       "      <td>6.0</td>\n",
       "      <td>235.64</td>\n",
       "      <td>2.0</td>\n",
       "      <td>25.0</td>\n",
       "      <td>114.051</td>\n",
       "    </tr>\n",
       "    <tr>\n",
       "      <th>2017</th>\n",
       "      <td>2017</td>\n",
       "      <td>3549</td>\n",
       "      <td>1</td>\n",
       "      <td>13300</td>\n",
       "      <td>25698.0</td>\n",
       "      <td>58760.0</td>\n",
       "      <td>HomeImp</td>\n",
       "      <td>Self</td>\n",
       "      <td>15.0</td>\n",
       "      <td>0.0</td>\n",
       "      <td>0.0</td>\n",
       "      <td>147.91</td>\n",
       "      <td>1.0</td>\n",
       "      <td>10.0</td>\n",
       "      <td>30.962</td>\n",
       "    </tr>\n",
       "  </tbody>\n",
       "</table>\n",
       "<p>2018 rows × 15 columns</p>\n",
       "</div>"
      ],
      "text/plain": [
       "      level_0  index  bad   loan   mortdue     value   reason   job   yoj  \\\n",
       "0           0    153    0  18200   94727.0  136877.0  DebtCon   Mgr  15.0   \n",
       "1           1    154    0  21700   79240.0   96784.0  DebtCon   Mgr   5.0   \n",
       "2           2    155    0  34100  241931.0   36486.0  DebtCon   Mgr   1.0   \n",
       "3           3    156    0   8400   62989.0   76718.0  HomeImp   Mgr   3.0   \n",
       "4           4    157    0  17400   25859.0   43684.0  DebtCon   Mgr  16.0   \n",
       "...       ...    ...  ...    ...       ...       ...      ...   ...   ...   \n",
       "2013     2013   3544    1   7200   15637.0   39660.0  HomeImp  Self   6.0   \n",
       "2014     2014   3546    1  53400  228236.0  305514.0  HomeImp  Self   6.0   \n",
       "2015     2015   3547    1  27300  106221.0  137727.0  DebtCon  Self   3.0   \n",
       "2016     2016   3548    1  37300   68789.0   86172.0  HomeImp  Self   2.0   \n",
       "2017     2017   3549    1  13300   25698.0   58760.0  HomeImp  Self  15.0   \n",
       "\n",
       "      derog  delinq   clage  ninq  clno  debtinc  \n",
       "0       0.0     0.0  168.96   2.0  26.0   36.056  \n",
       "1       0.0     0.0   64.51   6.0  24.0   38.079  \n",
       "2       0.0     2.0  196.01   3.0  50.0   42.459  \n",
       "3       0.0     2.0  131.47   0.0  22.0   29.200  \n",
       "4       1.0     0.0   95.36   1.0  17.0   27.108  \n",
       "...     ...     ...     ...   ...   ...      ...  \n",
       "2013    0.0     1.0  354.24   3.0  42.0   33.624  \n",
       "2014    0.0     0.0   11.15   0.0   2.0   34.558  \n",
       "2015    0.0     0.0  300.57   3.0  45.0   32.560  \n",
       "2016    0.0     6.0  235.64   2.0  25.0  114.051  \n",
       "2017    0.0     0.0  147.91   1.0  10.0   30.962  \n",
       "\n",
       "[2018 rows x 15 columns]"
      ]
     },
     "execution_count": 146,
     "metadata": {},
     "output_type": "execute_result"
    }
   ],
   "source": [
    "data=data.dropna(how='any')\n",
    "data"
   ]
  },
  {
   "cell_type": "markdown",
   "metadata": {},
   "source": [
    "### boş bırakılan özelliklerden dolayı bu değerler düşürüldü. Dataya bir de bu şekilde bakıldı."
   ]
  },
  {
   "cell_type": "code",
   "execution_count": 148,
   "metadata": {},
   "outputs": [
    {
     "data": {
      "text/plain": [
       "array(['Mgr', 'Office', 'Other', 'ProfEx', 'Sales', 'Self'], dtype=object)"
      ]
     },
     "execution_count": 148,
     "metadata": {},
     "output_type": "execute_result"
    }
   ],
   "source": [
    "data[\"job\"].unique()"
   ]
  },
  {
   "cell_type": "markdown",
   "metadata": {},
   "source": [
    "#### iş türleri incelendi ve sayılarına bakıldı"
   ]
  },
  {
   "cell_type": "code",
   "execution_count": 120,
   "metadata": {},
   "outputs": [
    {
     "data": {
      "text/plain": [
       "Other     774\n",
       "ProfEx    539\n",
       "Office    348\n",
       "Mgr       269\n",
       "Self       58\n",
       "Sales      30\n",
       "Name: job, dtype: int64"
      ]
     },
     "execution_count": 120,
     "metadata": {},
     "output_type": "execute_result"
    }
   ],
   "source": [
    "data[\"job\"].value_counts()"
   ]
  },
  {
   "cell_type": "code",
   "execution_count": 121,
   "metadata": {},
   "outputs": [
    {
     "data": {
      "text/html": [
       "<div>\n",
       "<style scoped>\n",
       "    .dataframe tbody tr th:only-of-type {\n",
       "        vertical-align: middle;\n",
       "    }\n",
       "\n",
       "    .dataframe tbody tr th {\n",
       "        vertical-align: top;\n",
       "    }\n",
       "\n",
       "    .dataframe thead th {\n",
       "        text-align: right;\n",
       "    }\n",
       "</style>\n",
       "<table border=\"1\" class=\"dataframe\">\n",
       "  <thead>\n",
       "    <tr style=\"text-align: right;\">\n",
       "      <th></th>\n",
       "      <th>bad</th>\n",
       "      <th>loan</th>\n",
       "      <th>mortdue</th>\n",
       "      <th>value</th>\n",
       "      <th>yoj</th>\n",
       "      <th>derog</th>\n",
       "      <th>delinq</th>\n",
       "      <th>clage</th>\n",
       "      <th>ninq</th>\n",
       "      <th>clno</th>\n",
       "      <th>debtinc</th>\n",
       "      <th>log</th>\n",
       "    </tr>\n",
       "  </thead>\n",
       "  <tbody>\n",
       "    <tr>\n",
       "      <th>count</th>\n",
       "      <td>2018.000000</td>\n",
       "      <td>2018.000000</td>\n",
       "      <td>2018.000000</td>\n",
       "      <td>2018.000000</td>\n",
       "      <td>2018.000000</td>\n",
       "      <td>2018.000000</td>\n",
       "      <td>2018.000000</td>\n",
       "      <td>2018.000000</td>\n",
       "      <td>2018.000000</td>\n",
       "      <td>2018.000000</td>\n",
       "      <td>2018.000000</td>\n",
       "      <td>2018.000000</td>\n",
       "    </tr>\n",
       "    <tr>\n",
       "      <th>mean</th>\n",
       "      <td>0.088206</td>\n",
       "      <td>19010.257681</td>\n",
       "      <td>76337.035183</td>\n",
       "      <td>106899.244797</td>\n",
       "      <td>9.003964</td>\n",
       "      <td>0.150149</td>\n",
       "      <td>0.264123</td>\n",
       "      <td>180.645020</td>\n",
       "      <td>1.037661</td>\n",
       "      <td>22.265114</td>\n",
       "      <td>34.105829</td>\n",
       "      <td>11.475395</td>\n",
       "    </tr>\n",
       "    <tr>\n",
       "      <th>std</th>\n",
       "      <td>0.283665</td>\n",
       "      <td>10768.607345</td>\n",
       "      <td>44476.368189</td>\n",
       "      <td>54026.707096</td>\n",
       "      <td>7.573012</td>\n",
       "      <td>0.580421</td>\n",
       "      <td>0.789816</td>\n",
       "      <td>84.420116</td>\n",
       "      <td>1.578414</td>\n",
       "      <td>9.457238</td>\n",
       "      <td>8.438411</td>\n",
       "      <td>0.447209</td>\n",
       "    </tr>\n",
       "    <tr>\n",
       "      <th>min</th>\n",
       "      <td>0.000000</td>\n",
       "      <td>1700.000000</td>\n",
       "      <td>5076.000000</td>\n",
       "      <td>23031.000000</td>\n",
       "      <td>0.000000</td>\n",
       "      <td>0.000000</td>\n",
       "      <td>0.000000</td>\n",
       "      <td>0.490000</td>\n",
       "      <td>0.000000</td>\n",
       "      <td>0.000000</td>\n",
       "      <td>4.030000</td>\n",
       "      <td>10.044596</td>\n",
       "    </tr>\n",
       "    <tr>\n",
       "      <th>25%</th>\n",
       "      <td>0.000000</td>\n",
       "      <td>12000.000000</td>\n",
       "      <td>49577.250000</td>\n",
       "      <td>71287.250000</td>\n",
       "      <td>3.000000</td>\n",
       "      <td>0.000000</td>\n",
       "      <td>0.000000</td>\n",
       "      <td>118.205000</td>\n",
       "      <td>0.000000</td>\n",
       "      <td>16.000000</td>\n",
       "      <td>29.295500</td>\n",
       "      <td>11.174473</td>\n",
       "    </tr>\n",
       "    <tr>\n",
       "      <th>50%</th>\n",
       "      <td>0.000000</td>\n",
       "      <td>16900.000000</td>\n",
       "      <td>67595.000000</td>\n",
       "      <td>94514.000000</td>\n",
       "      <td>7.000000</td>\n",
       "      <td>0.000000</td>\n",
       "      <td>0.000000</td>\n",
       "      <td>176.670000</td>\n",
       "      <td>0.000000</td>\n",
       "      <td>21.000000</td>\n",
       "      <td>34.949000</td>\n",
       "      <td>11.456503</td>\n",
       "    </tr>\n",
       "    <tr>\n",
       "      <th>75%</th>\n",
       "      <td>0.000000</td>\n",
       "      <td>23600.000000</td>\n",
       "      <td>92922.750000</td>\n",
       "      <td>121220.750000</td>\n",
       "      <td>13.000000</td>\n",
       "      <td>0.000000</td>\n",
       "      <td>0.000000</td>\n",
       "      <td>229.692500</td>\n",
       "      <td>2.000000</td>\n",
       "      <td>27.000000</td>\n",
       "      <td>38.952000</td>\n",
       "      <td>11.705368</td>\n",
       "    </tr>\n",
       "    <tr>\n",
       "      <th>max</th>\n",
       "      <td>1.000000</td>\n",
       "      <td>89900.000000</td>\n",
       "      <td>399412.000000</td>\n",
       "      <td>512650.000000</td>\n",
       "      <td>41.000000</td>\n",
       "      <td>10.000000</td>\n",
       "      <td>10.000000</td>\n",
       "      <td>1168.230000</td>\n",
       "      <td>13.000000</td>\n",
       "      <td>64.000000</td>\n",
       "      <td>144.189000</td>\n",
       "      <td>13.147349</td>\n",
       "    </tr>\n",
       "  </tbody>\n",
       "</table>\n",
       "</div>"
      ],
      "text/plain": [
       "               bad          loan        mortdue          value          yoj  \\\n",
       "count  2018.000000   2018.000000    2018.000000    2018.000000  2018.000000   \n",
       "mean      0.088206  19010.257681   76337.035183  106899.244797     9.003964   \n",
       "std       0.283665  10768.607345   44476.368189   54026.707096     7.573012   \n",
       "min       0.000000   1700.000000    5076.000000   23031.000000     0.000000   \n",
       "25%       0.000000  12000.000000   49577.250000   71287.250000     3.000000   \n",
       "50%       0.000000  16900.000000   67595.000000   94514.000000     7.000000   \n",
       "75%       0.000000  23600.000000   92922.750000  121220.750000    13.000000   \n",
       "max       1.000000  89900.000000  399412.000000  512650.000000    41.000000   \n",
       "\n",
       "             derog       delinq        clage         ninq         clno  \\\n",
       "count  2018.000000  2018.000000  2018.000000  2018.000000  2018.000000   \n",
       "mean      0.150149     0.264123   180.645020     1.037661    22.265114   \n",
       "std       0.580421     0.789816    84.420116     1.578414     9.457238   \n",
       "min       0.000000     0.000000     0.490000     0.000000     0.000000   \n",
       "25%       0.000000     0.000000   118.205000     0.000000    16.000000   \n",
       "50%       0.000000     0.000000   176.670000     0.000000    21.000000   \n",
       "75%       0.000000     0.000000   229.692500     2.000000    27.000000   \n",
       "max      10.000000    10.000000  1168.230000    13.000000    64.000000   \n",
       "\n",
       "           debtinc          log  \n",
       "count  2018.000000  2018.000000  \n",
       "mean     34.105829    11.475395  \n",
       "std       8.438411     0.447209  \n",
       "min       4.030000    10.044596  \n",
       "25%      29.295500    11.174473  \n",
       "50%      34.949000    11.456503  \n",
       "75%      38.952000    11.705368  \n",
       "max     144.189000    13.147349  "
      ]
     },
     "execution_count": 121,
     "metadata": {},
     "output_type": "execute_result"
    }
   ],
   "source": [
    "data.describe()"
   ]
  },
  {
   "cell_type": "code",
   "execution_count": 127,
   "metadata": {},
   "outputs": [
    {
     "data": {
      "image/png": "[encoded data removed]",
      "text/plain": [
       "<Figure size 432x288 with 2 Axes>"
      ]
     },
     "metadata": {
      "needs_background": "light"
     },
     "output_type": "display_data"
    }
   ],
   "source": [
    "sns.heatmap(data.corr(), annot=True, linewidths=0.05, fmt= '.2f',cmap=\"magma\")\n",
    "plt.show()"
   ]
  },
  {
   "cell_type": "markdown",
   "metadata": {},
   "source": [
    "#### yukarda yapılan görselleştirmelerin aynıları değerler düşürüldükten sonra tekrar yapıldı pek fark olmadığı gözlemlendi."
   ]
  },
  {
   "cell_type": "code",
   "execution_count": 128,
   "metadata": {},
   "outputs": [
    {
     "data": {
      "text/plain": [
       "<matplotlib.collections.PathCollection at 0x2b6997a8>"
      ]
     },
     "execution_count": 128,
     "metadata": {},
     "output_type": "execute_result"
    },
    {
     "data": {
      "image/png": "[encoded data removed]",
      "text/plain": [
       "<Figure size 432x288 with 1 Axes>"
      ]
     },
     "metadata": {
      "needs_background": "light"
     },
     "output_type": "display_data"
    }
   ],
   "source": [
    "plt.scatter(x='mortdue', y='value', data=data)"
   ]
  },
  {
   "cell_type": "code",
   "execution_count": 129,
   "metadata": {},
   "outputs": [
    {
     "data": {
      "text/plain": [
       "<matplotlib.collections.PathCollection at 0x2b6b7ec8>"
      ]
     },
     "execution_count": 129,
     "metadata": {},
     "output_type": "execute_result"
    },
    {
     "data": {
      "image/png": "[encoded data removed]",
      "text/plain": [
       "<Figure size 432x288 with 1 Axes>"
      ]
     },
     "metadata": {
      "needs_background": "light"
     },
     "output_type": "display_data"
    }
   ],
   "source": [
    "plt.scatter(x='mortdue', y='loan', data=data)"
   ]
  },
  {
   "cell_type": "code",
   "execution_count": 131,
   "metadata": {},
   "outputs": [
    {
     "data": {
      "text/plain": [
       "<matplotlib.collections.PathCollection at 0x2b6e8040>"
      ]
     },
     "execution_count": 131,
     "metadata": {},
     "output_type": "execute_result"
    },
    {
     "data": {
      "image/png": "[encoded data removed]",
      "text/plain": [
       "<Figure size 432x288 with 1 Axes>"
      ]
     },
     "metadata": {
      "needs_background": "light"
     },
     "output_type": "display_data"
    }
   ],
   "source": [
    "plt.scatter(x='value', y='loan', data=data)"
   ]
  },
  {
   "cell_type": "markdown",
   "metadata": {},
   "source": [
    "#### %64 oranında DebtCon için başvuran good section gözlemlendi"
   ]
  },
  {
   "cell_type": "code",
   "execution_count": 132,
   "metadata": {},
   "outputs": [
    {
     "data": {
      "text/html": [
       "<div>\n",
       "<style scoped>\n",
       "    .dataframe tbody tr th:only-of-type {\n",
       "        vertical-align: middle;\n",
       "    }\n",
       "\n",
       "    .dataframe tbody tr th {\n",
       "        vertical-align: top;\n",
       "    }\n",
       "\n",
       "    .dataframe thead th {\n",
       "        text-align: right;\n",
       "    }\n",
       "</style>\n",
       "<table border=\"1\" class=\"dataframe\">\n",
       "  <thead>\n",
       "    <tr style=\"text-align: right;\">\n",
       "      <th>reason</th>\n",
       "      <th>DebtCon</th>\n",
       "      <th>HomeImp</th>\n",
       "    </tr>\n",
       "    <tr>\n",
       "      <th>bad</th>\n",
       "      <th></th>\n",
       "      <th></th>\n",
       "    </tr>\n",
       "  </thead>\n",
       "  <tbody>\n",
       "    <tr>\n",
       "      <th>0</th>\n",
       "      <td>0.646184</td>\n",
       "      <td>0.265610</td>\n",
       "    </tr>\n",
       "    <tr>\n",
       "      <th>1</th>\n",
       "      <td>0.061447</td>\n",
       "      <td>0.026759</td>\n",
       "    </tr>\n",
       "  </tbody>\n",
       "</table>\n",
       "</div>"
      ],
      "text/plain": [
       "reason   DebtCon   HomeImp\n",
       "bad                       \n",
       "0       0.646184  0.265610\n",
       "1       0.061447  0.026759"
      ]
     },
     "execution_count": 132,
     "metadata": {},
     "output_type": "execute_result"
    }
   ],
   "source": [
    "_ =pd.crosstab(index=data[\"bad\"], columns=data[\"reason\"], normalize=True)\n",
    "_"
   ]
  },
  {
   "cell_type": "code",
   "execution_count": 141,
   "metadata": {},
   "outputs": [
    {
     "data": {
      "text/html": [
       "<div>\n",
       "<style scoped>\n",
       "    .dataframe tbody tr th:only-of-type {\n",
       "        vertical-align: middle;\n",
       "    }\n",
       "\n",
       "    .dataframe tbody tr th {\n",
       "        vertical-align: top;\n",
       "    }\n",
       "\n",
       "    .dataframe thead th {\n",
       "        text-align: right;\n",
       "    }\n",
       "</style>\n",
       "<table border=\"1\" class=\"dataframe\">\n",
       "  <thead>\n",
       "    <tr style=\"text-align: right;\">\n",
       "      <th>reason</th>\n",
       "      <th>DebtCon</th>\n",
       "      <th>HomeImp</th>\n",
       "    </tr>\n",
       "    <tr>\n",
       "      <th>bad</th>\n",
       "      <th></th>\n",
       "      <th></th>\n",
       "    </tr>\n",
       "  </thead>\n",
       "  <tbody>\n",
       "    <tr>\n",
       "      <th>0</th>\n",
       "      <td>1304</td>\n",
       "      <td>536</td>\n",
       "    </tr>\n",
       "    <tr>\n",
       "      <th>1</th>\n",
       "      <td>124</td>\n",
       "      <td>54</td>\n",
       "    </tr>\n",
       "  </tbody>\n",
       "</table>\n",
       "</div>"
      ],
      "text/plain": [
       "reason  DebtCon  HomeImp\n",
       "bad                     \n",
       "0          1304      536\n",
       "1           124       54"
      ]
     },
     "execution_count": 141,
     "metadata": {},
     "output_type": "execute_result"
    }
   ],
   "source": [
    "_ =pd.crosstab(index=data[\"bad\"], columns=data[\"reason\"])\n",
    "_"
   ]
  },
  {
   "cell_type": "code",
   "execution_count": 158,
   "metadata": {},
   "outputs": [],
   "source": [
    "data = data.drop('index', axis=1)"
   ]
  },
  {
   "cell_type": "code",
   "execution_count": 159,
   "metadata": {},
   "outputs": [],
   "source": [
    "data = data.drop('level_0', axis=1)"
   ]
  },
  {
   "cell_type": "code",
   "execution_count": 160,
   "metadata": {},
   "outputs": [
    {
     "data": {
      "text/html": [
       "<div>\n",
       "<style scoped>\n",
       "    .dataframe tbody tr th:only-of-type {\n",
       "        vertical-align: middle;\n",
       "    }\n",
       "\n",
       "    .dataframe tbody tr th {\n",
       "        vertical-align: top;\n",
       "    }\n",
       "\n",
       "    .dataframe thead th {\n",
       "        text-align: right;\n",
       "    }\n",
       "</style>\n",
       "<table border=\"1\" class=\"dataframe\">\n",
       "  <thead>\n",
       "    <tr style=\"text-align: right;\">\n",
       "      <th></th>\n",
       "      <th>bad</th>\n",
       "      <th>loan</th>\n",
       "      <th>mortdue</th>\n",
       "      <th>value</th>\n",
       "      <th>reason</th>\n",
       "      <th>job</th>\n",
       "      <th>yoj</th>\n",
       "      <th>derog</th>\n",
       "      <th>delinq</th>\n",
       "      <th>clage</th>\n",
       "      <th>ninq</th>\n",
       "      <th>clno</th>\n",
       "      <th>debtinc</th>\n",
       "    </tr>\n",
       "  </thead>\n",
       "  <tbody>\n",
       "    <tr>\n",
       "      <th>0</th>\n",
       "      <td>0</td>\n",
       "      <td>18200</td>\n",
       "      <td>94727.0</td>\n",
       "      <td>136877.0</td>\n",
       "      <td>DebtCon</td>\n",
       "      <td>Mgr</td>\n",
       "      <td>15.0</td>\n",
       "      <td>0.0</td>\n",
       "      <td>0.0</td>\n",
       "      <td>168.96</td>\n",
       "      <td>2.0</td>\n",
       "      <td>26.0</td>\n",
       "      <td>36.056</td>\n",
       "    </tr>\n",
       "    <tr>\n",
       "      <th>1</th>\n",
       "      <td>0</td>\n",
       "      <td>21700</td>\n",
       "      <td>79240.0</td>\n",
       "      <td>96784.0</td>\n",
       "      <td>DebtCon</td>\n",
       "      <td>Mgr</td>\n",
       "      <td>5.0</td>\n",
       "      <td>0.0</td>\n",
       "      <td>0.0</td>\n",
       "      <td>64.51</td>\n",
       "      <td>6.0</td>\n",
       "      <td>24.0</td>\n",
       "      <td>38.079</td>\n",
       "    </tr>\n",
       "    <tr>\n",
       "      <th>2</th>\n",
       "      <td>0</td>\n",
       "      <td>34100</td>\n",
       "      <td>241931.0</td>\n",
       "      <td>36486.0</td>\n",
       "      <td>DebtCon</td>\n",
       "      <td>Mgr</td>\n",
       "      <td>1.0</td>\n",
       "      <td>0.0</td>\n",
       "      <td>2.0</td>\n",
       "      <td>196.01</td>\n",
       "      <td>3.0</td>\n",
       "      <td>50.0</td>\n",
       "      <td>42.459</td>\n",
       "    </tr>\n",
       "    <tr>\n",
       "      <th>3</th>\n",
       "      <td>0</td>\n",
       "      <td>8400</td>\n",
       "      <td>62989.0</td>\n",
       "      <td>76718.0</td>\n",
       "      <td>HomeImp</td>\n",
       "      <td>Mgr</td>\n",
       "      <td>3.0</td>\n",
       "      <td>0.0</td>\n",
       "      <td>2.0</td>\n",
       "      <td>131.47</td>\n",
       "      <td>0.0</td>\n",
       "      <td>22.0</td>\n",
       "      <td>29.200</td>\n",
       "    </tr>\n",
       "    <tr>\n",
       "      <th>4</th>\n",
       "      <td>0</td>\n",
       "      <td>17400</td>\n",
       "      <td>25859.0</td>\n",
       "      <td>43684.0</td>\n",
       "      <td>DebtCon</td>\n",
       "      <td>Mgr</td>\n",
       "      <td>16.0</td>\n",
       "      <td>1.0</td>\n",
       "      <td>0.0</td>\n",
       "      <td>95.36</td>\n",
       "      <td>1.0</td>\n",
       "      <td>17.0</td>\n",
       "      <td>27.108</td>\n",
       "    </tr>\n",
       "    <tr>\n",
       "      <th>...</th>\n",
       "      <td>...</td>\n",
       "      <td>...</td>\n",
       "      <td>...</td>\n",
       "      <td>...</td>\n",
       "      <td>...</td>\n",
       "      <td>...</td>\n",
       "      <td>...</td>\n",
       "      <td>...</td>\n",
       "      <td>...</td>\n",
       "      <td>...</td>\n",
       "      <td>...</td>\n",
       "      <td>...</td>\n",
       "      <td>...</td>\n",
       "    </tr>\n",
       "    <tr>\n",
       "      <th>2013</th>\n",
       "      <td>1</td>\n",
       "      <td>7200</td>\n",
       "      <td>15637.0</td>\n",
       "      <td>39660.0</td>\n",
       "      <td>HomeImp</td>\n",
       "      <td>Self</td>\n",
       "      <td>6.0</td>\n",
       "      <td>0.0</td>\n",
       "      <td>1.0</td>\n",
       "      <td>354.24</td>\n",
       "      <td>3.0</td>\n",
       "      <td>42.0</td>\n",
       "      <td>33.624</td>\n",
       "    </tr>\n",
       "    <tr>\n",
       "      <th>2014</th>\n",
       "      <td>1</td>\n",
       "      <td>53400</td>\n",
       "      <td>228236.0</td>\n",
       "      <td>305514.0</td>\n",
       "      <td>HomeImp</td>\n",
       "      <td>Self</td>\n",
       "      <td>6.0</td>\n",
       "      <td>0.0</td>\n",
       "      <td>0.0</td>\n",
       "      <td>11.15</td>\n",
       "      <td>0.0</td>\n",
       "      <td>2.0</td>\n",
       "      <td>34.558</td>\n",
       "    </tr>\n",
       "    <tr>\n",
       "      <th>2015</th>\n",
       "      <td>1</td>\n",
       "      <td>27300</td>\n",
       "      <td>106221.0</td>\n",
       "      <td>137727.0</td>\n",
       "      <td>DebtCon</td>\n",
       "      <td>Self</td>\n",
       "      <td>3.0</td>\n",
       "      <td>0.0</td>\n",
       "      <td>0.0</td>\n",
       "      <td>300.57</td>\n",
       "      <td>3.0</td>\n",
       "      <td>45.0</td>\n",
       "      <td>32.560</td>\n",
       "    </tr>\n",
       "    <tr>\n",
       "      <th>2016</th>\n",
       "      <td>1</td>\n",
       "      <td>37300</td>\n",
       "      <td>68789.0</td>\n",
       "      <td>86172.0</td>\n",
       "      <td>HomeImp</td>\n",
       "      <td>Self</td>\n",
       "      <td>2.0</td>\n",
       "      <td>0.0</td>\n",
       "      <td>6.0</td>\n",
       "      <td>235.64</td>\n",
       "      <td>2.0</td>\n",
       "      <td>25.0</td>\n",
       "      <td>114.051</td>\n",
       "    </tr>\n",
       "    <tr>\n",
       "      <th>2017</th>\n",
       "      <td>1</td>\n",
       "      <td>13300</td>\n",
       "      <td>25698.0</td>\n",
       "      <td>58760.0</td>\n",
       "      <td>HomeImp</td>\n",
       "      <td>Self</td>\n",
       "      <td>15.0</td>\n",
       "      <td>0.0</td>\n",
       "      <td>0.0</td>\n",
       "      <td>147.91</td>\n",
       "      <td>1.0</td>\n",
       "      <td>10.0</td>\n",
       "      <td>30.962</td>\n",
       "    </tr>\n",
       "  </tbody>\n",
       "</table>\n",
       "<p>2018 rows × 13 columns</p>\n",
       "</div>"
      ],
      "text/plain": [
       "      bad   loan   mortdue     value   reason   job   yoj  derog  delinq  \\\n",
       "0       0  18200   94727.0  136877.0  DebtCon   Mgr  15.0    0.0     0.0   \n",
       "1       0  21700   79240.0   96784.0  DebtCon   Mgr   5.0    0.0     0.0   \n",
       "2       0  34100  241931.0   36486.0  DebtCon   Mgr   1.0    0.0     2.0   \n",
       "3       0   8400   62989.0   76718.0  HomeImp   Mgr   3.0    0.0     2.0   \n",
       "4       0  17400   25859.0   43684.0  DebtCon   Mgr  16.0    1.0     0.0   \n",
       "...   ...    ...       ...       ...      ...   ...   ...    ...     ...   \n",
       "2013    1   7200   15637.0   39660.0  HomeImp  Self   6.0    0.0     1.0   \n",
       "2014    1  53400  228236.0  305514.0  HomeImp  Self   6.0    0.0     0.0   \n",
       "2015    1  27300  106221.0  137727.0  DebtCon  Self   3.0    0.0     0.0   \n",
       "2016    1  37300   68789.0   86172.0  HomeImp  Self   2.0    0.0     6.0   \n",
       "2017    1  13300   25698.0   58760.0  HomeImp  Self  15.0    0.0     0.0   \n",
       "\n",
       "       clage  ninq  clno  debtinc  \n",
       "0     168.96   2.0  26.0   36.056  \n",
       "1      64.51   6.0  24.0   38.079  \n",
       "2     196.01   3.0  50.0   42.459  \n",
       "3     131.47   0.0  22.0   29.200  \n",
       "4      95.36   1.0  17.0   27.108  \n",
       "...      ...   ...   ...      ...  \n",
       "2013  354.24   3.0  42.0   33.624  \n",
       "2014   11.15   0.0   2.0   34.558  \n",
       "2015  300.57   3.0  45.0   32.560  \n",
       "2016  235.64   2.0  25.0  114.051  \n",
       "2017  147.91   1.0  10.0   30.962  \n",
       "\n",
       "[2018 rows x 13 columns]"
      ]
     },
     "execution_count": 160,
     "metadata": {},
     "output_type": "execute_result"
    }
   ],
   "source": [
    "data"
   ]
  },
  {
   "cell_type": "code",
   "execution_count": 161,
   "metadata": {},
   "outputs": [
    {
     "data": {
      "text/html": [
       "<div>\n",
       "<style scoped>\n",
       "    .dataframe tbody tr th:only-of-type {\n",
       "        vertical-align: middle;\n",
       "    }\n",
       "\n",
       "    .dataframe tbody tr th {\n",
       "        vertical-align: top;\n",
       "    }\n",
       "\n",
       "    .dataframe thead th {\n",
       "        text-align: right;\n",
       "    }\n",
       "</style>\n",
       "<table border=\"1\" class=\"dataframe\">\n",
       "  <thead>\n",
       "    <tr style=\"text-align: right;\">\n",
       "      <th>job</th>\n",
       "      <th>Mgr</th>\n",
       "      <th>Office</th>\n",
       "      <th>Other</th>\n",
       "      <th>ProfEx</th>\n",
       "      <th>Sales</th>\n",
       "      <th>Self</th>\n",
       "    </tr>\n",
       "    <tr>\n",
       "      <th>bad</th>\n",
       "      <th></th>\n",
       "      <th></th>\n",
       "      <th></th>\n",
       "      <th></th>\n",
       "      <th></th>\n",
       "      <th></th>\n",
       "    </tr>\n",
       "  </thead>\n",
       "  <tbody>\n",
       "    <tr>\n",
       "      <th>0</th>\n",
       "      <td>242</td>\n",
       "      <td>326</td>\n",
       "      <td>694</td>\n",
       "      <td>504</td>\n",
       "      <td>23</td>\n",
       "      <td>51</td>\n",
       "    </tr>\n",
       "    <tr>\n",
       "      <th>1</th>\n",
       "      <td>27</td>\n",
       "      <td>22</td>\n",
       "      <td>80</td>\n",
       "      <td>35</td>\n",
       "      <td>7</td>\n",
       "      <td>7</td>\n",
       "    </tr>\n",
       "  </tbody>\n",
       "</table>\n",
       "</div>"
      ],
      "text/plain": [
       "job  Mgr  Office  Other  ProfEx  Sales  Self\n",
       "bad                                         \n",
       "0    242     326    694     504     23    51\n",
       "1     27      22     80      35      7     7"
      ]
     },
     "execution_count": 161,
     "metadata": {},
     "output_type": "execute_result"
    }
   ],
   "source": [
    "_ =pd.crosstab(index=data[\"bad\"], columns=data[\"job\"])\n",
    "_"
   ]
  },
  {
   "cell_type": "code",
   "execution_count": 162,
   "metadata": {},
   "outputs": [
    {
     "data": {
      "text/html": [
       "<div>\n",
       "<style scoped>\n",
       "    .dataframe tbody tr th:only-of-type {\n",
       "        vertical-align: middle;\n",
       "    }\n",
       "\n",
       "    .dataframe tbody tr th {\n",
       "        vertical-align: top;\n",
       "    }\n",
       "\n",
       "    .dataframe thead th {\n",
       "        text-align: right;\n",
       "    }\n",
       "</style>\n",
       "<table border=\"1\" class=\"dataframe\">\n",
       "  <thead>\n",
       "    <tr style=\"text-align: right;\">\n",
       "      <th>job</th>\n",
       "      <th>Mgr</th>\n",
       "      <th>Office</th>\n",
       "      <th>Other</th>\n",
       "      <th>ProfEx</th>\n",
       "      <th>Sales</th>\n",
       "      <th>Self</th>\n",
       "    </tr>\n",
       "    <tr>\n",
       "      <th>bad</th>\n",
       "      <th></th>\n",
       "      <th></th>\n",
       "      <th></th>\n",
       "      <th></th>\n",
       "      <th></th>\n",
       "      <th></th>\n",
       "    </tr>\n",
       "  </thead>\n",
       "  <tbody>\n",
       "    <tr>\n",
       "      <th>0</th>\n",
       "      <td>0.119921</td>\n",
       "      <td>0.161546</td>\n",
       "      <td>0.343905</td>\n",
       "      <td>0.249752</td>\n",
       "      <td>0.011397</td>\n",
       "      <td>0.025273</td>\n",
       "    </tr>\n",
       "    <tr>\n",
       "      <th>1</th>\n",
       "      <td>0.013380</td>\n",
       "      <td>0.010902</td>\n",
       "      <td>0.039643</td>\n",
       "      <td>0.017344</td>\n",
       "      <td>0.003469</td>\n",
       "      <td>0.003469</td>\n",
       "    </tr>\n",
       "  </tbody>\n",
       "</table>\n",
       "</div>"
      ],
      "text/plain": [
       "job       Mgr    Office     Other    ProfEx     Sales      Self\n",
       "bad                                                            \n",
       "0    0.119921  0.161546  0.343905  0.249752  0.011397  0.025273\n",
       "1    0.013380  0.010902  0.039643  0.017344  0.003469  0.003469"
      ]
     },
     "execution_count": 162,
     "metadata": {},
     "output_type": "execute_result"
    }
   ],
   "source": [
    "_ =pd.crosstab(index=data[\"bad\"], columns=data[\"job\"], normalize=True)\n",
    "_"
   ]
  },
  {
   "cell_type": "code",
   "execution_count": 164,
   "metadata": {},
   "outputs": [
    {
     "data": {
      "text/html": [
       "<div>\n",
       "<style scoped>\n",
       "    .dataframe tbody tr th:only-of-type {\n",
       "        vertical-align: middle;\n",
       "    }\n",
       "\n",
       "    .dataframe tbody tr th {\n",
       "        vertical-align: top;\n",
       "    }\n",
       "\n",
       "    .dataframe thead th {\n",
       "        text-align: right;\n",
       "    }\n",
       "</style>\n",
       "<table border=\"1\" class=\"dataframe\">\n",
       "  <thead>\n",
       "    <tr style=\"text-align: right;\">\n",
       "      <th>job</th>\n",
       "      <th>Mgr</th>\n",
       "      <th>Office</th>\n",
       "      <th>Other</th>\n",
       "      <th>ProfEx</th>\n",
       "      <th>Sales</th>\n",
       "      <th>Self</th>\n",
       "    </tr>\n",
       "    <tr>\n",
       "      <th>reason</th>\n",
       "      <th></th>\n",
       "      <th></th>\n",
       "      <th></th>\n",
       "      <th></th>\n",
       "      <th></th>\n",
       "      <th></th>\n",
       "    </tr>\n",
       "  </thead>\n",
       "  <tbody>\n",
       "    <tr>\n",
       "      <th>DebtCon</th>\n",
       "      <td>0.784387</td>\n",
       "      <td>0.729885</td>\n",
       "      <td>0.723514</td>\n",
       "      <td>0.649351</td>\n",
       "      <td>0.866667</td>\n",
       "      <td>0.465517</td>\n",
       "    </tr>\n",
       "    <tr>\n",
       "      <th>HomeImp</th>\n",
       "      <td>0.215613</td>\n",
       "      <td>0.270115</td>\n",
       "      <td>0.276486</td>\n",
       "      <td>0.350649</td>\n",
       "      <td>0.133333</td>\n",
       "      <td>0.534483</td>\n",
       "    </tr>\n",
       "  </tbody>\n",
       "</table>\n",
       "</div>"
      ],
      "text/plain": [
       "job           Mgr    Office     Other    ProfEx     Sales      Self\n",
       "reason                                                             \n",
       "DebtCon  0.784387  0.729885  0.723514  0.649351  0.866667  0.465517\n",
       "HomeImp  0.215613  0.270115  0.276486  0.350649  0.133333  0.534483"
      ]
     },
     "execution_count": 164,
     "metadata": {},
     "output_type": "execute_result"
    }
   ],
   "source": [
    "# çoğu meslek grupları borçlarını ödemek için kredi çekmek isterken kendi işini yapanlar home improvoment kredisi için\n",
    "# çoğunlukla başvurmuş\n",
    "# buradan kendi işini yapanlar için işler yolunda gibi gözüküyor :)\n",
    "\n",
    "_ =pd.crosstab(index=data[\"reason\"], columns=data[\"job\"], normalize='columns')\n",
    "_"
   ]
  },
  {
   "cell_type": "code",
   "execution_count": 167,
   "metadata": {},
   "outputs": [
    {
     "data": {
      "image/png": "[encoded data removed]",
      "text/plain": [
       "<Figure size 432x288 with 1 Axes>"
      ]
     },
     "metadata": {
      "needs_background": "light"
     },
     "output_type": "display_data"
    }
   ],
   "source": [
    "sns.countplot(\"job\", hue=\"reason\", data=data)\n",
    "plt.show()"
   ]
  },
  {
   "cell_type": "markdown",
   "metadata": {},
   "source": [
    "#### işindeki yılına göre kredi analizi yapıldı. Hangi yılda ne kadar kişi var tespit edildi."
   ]
  },
  {
   "cell_type": "code",
   "execution_count": 246,
   "metadata": {},
   "outputs": [
    {
     "data": {
      "text/plain": [
       "0.0     177\n",
       "4.0     152\n",
       "1.0     137\n",
       "6.0     126\n",
       "2.0     125\n",
       "5.0     117\n",
       "3.0     115\n",
       "9.0     113\n",
       "10.0    103\n",
       "7.0      92\n",
       "8.0      86\n",
       "13.0     66\n",
       "11.0     64\n",
       "12.0     57\n",
       "16.0     51\n",
       "14.0     50\n",
       "15.0     46\n",
       "20.0     35\n",
       "19.0     35\n",
       "17.0     34\n",
       "22.0     31\n",
       "23.0     30\n",
       "18.0     28\n",
       "24.0     28\n",
       "21.0     26\n",
       "25.0     22\n",
       "27.0     19\n",
       "29.0     12\n",
       "28.0     12\n",
       "26.0     11\n",
       "30.0      8\n",
       "36.0      4\n",
       "31.0      3\n",
       "35.0      2\n",
       "41.0      1\n",
       "Name: yoj, dtype: int64"
      ]
     },
     "execution_count": 246,
     "metadata": {},
     "output_type": "execute_result"
    }
   ],
   "source": [
    "data[\"yoj\"].value_counts()"
   ]
  },
  {
   "cell_type": "code",
   "execution_count": 255,
   "metadata": {},
   "outputs": [
    {
     "data": {
      "text/html": [
       "<div>\n",
       "<style scoped>\n",
       "    .dataframe tbody tr th:only-of-type {\n",
       "        vertical-align: middle;\n",
       "    }\n",
       "\n",
       "    .dataframe tbody tr th {\n",
       "        vertical-align: top;\n",
       "    }\n",
       "\n",
       "    .dataframe thead th {\n",
       "        text-align: right;\n",
       "    }\n",
       "</style>\n",
       "<table border=\"1\" class=\"dataframe\">\n",
       "  <thead>\n",
       "    <tr style=\"text-align: right;\">\n",
       "      <th></th>\n",
       "      <th>yoj</th>\n",
       "      <th>count</th>\n",
       "    </tr>\n",
       "  </thead>\n",
       "  <tbody>\n",
       "    <tr>\n",
       "      <th>0</th>\n",
       "      <td>0.0</td>\n",
       "      <td>177</td>\n",
       "    </tr>\n",
       "    <tr>\n",
       "      <th>1</th>\n",
       "      <td>4.0</td>\n",
       "      <td>152</td>\n",
       "    </tr>\n",
       "    <tr>\n",
       "      <th>2</th>\n",
       "      <td>1.0</td>\n",
       "      <td>137</td>\n",
       "    </tr>\n",
       "    <tr>\n",
       "      <th>3</th>\n",
       "      <td>6.0</td>\n",
       "      <td>126</td>\n",
       "    </tr>\n",
       "    <tr>\n",
       "      <th>4</th>\n",
       "      <td>2.0</td>\n",
       "      <td>125</td>\n",
       "    </tr>\n",
       "    <tr>\n",
       "      <th>5</th>\n",
       "      <td>5.0</td>\n",
       "      <td>117</td>\n",
       "    </tr>\n",
       "    <tr>\n",
       "      <th>6</th>\n",
       "      <td>3.0</td>\n",
       "      <td>115</td>\n",
       "    </tr>\n",
       "    <tr>\n",
       "      <th>7</th>\n",
       "      <td>9.0</td>\n",
       "      <td>113</td>\n",
       "    </tr>\n",
       "    <tr>\n",
       "      <th>8</th>\n",
       "      <td>10.0</td>\n",
       "      <td>103</td>\n",
       "    </tr>\n",
       "    <tr>\n",
       "      <th>9</th>\n",
       "      <td>7.0</td>\n",
       "      <td>92</td>\n",
       "    </tr>\n",
       "    <tr>\n",
       "      <th>10</th>\n",
       "      <td>8.0</td>\n",
       "      <td>86</td>\n",
       "    </tr>\n",
       "    <tr>\n",
       "      <th>11</th>\n",
       "      <td>13.0</td>\n",
       "      <td>66</td>\n",
       "    </tr>\n",
       "    <tr>\n",
       "      <th>12</th>\n",
       "      <td>11.0</td>\n",
       "      <td>64</td>\n",
       "    </tr>\n",
       "    <tr>\n",
       "      <th>13</th>\n",
       "      <td>12.0</td>\n",
       "      <td>57</td>\n",
       "    </tr>\n",
       "    <tr>\n",
       "      <th>14</th>\n",
       "      <td>16.0</td>\n",
       "      <td>51</td>\n",
       "    </tr>\n",
       "    <tr>\n",
       "      <th>15</th>\n",
       "      <td>14.0</td>\n",
       "      <td>50</td>\n",
       "    </tr>\n",
       "    <tr>\n",
       "      <th>16</th>\n",
       "      <td>15.0</td>\n",
       "      <td>46</td>\n",
       "    </tr>\n",
       "    <tr>\n",
       "      <th>17</th>\n",
       "      <td>20.0</td>\n",
       "      <td>35</td>\n",
       "    </tr>\n",
       "    <tr>\n",
       "      <th>18</th>\n",
       "      <td>19.0</td>\n",
       "      <td>35</td>\n",
       "    </tr>\n",
       "    <tr>\n",
       "      <th>19</th>\n",
       "      <td>17.0</td>\n",
       "      <td>34</td>\n",
       "    </tr>\n",
       "    <tr>\n",
       "      <th>20</th>\n",
       "      <td>22.0</td>\n",
       "      <td>31</td>\n",
       "    </tr>\n",
       "    <tr>\n",
       "      <th>21</th>\n",
       "      <td>23.0</td>\n",
       "      <td>30</td>\n",
       "    </tr>\n",
       "    <tr>\n",
       "      <th>22</th>\n",
       "      <td>18.0</td>\n",
       "      <td>28</td>\n",
       "    </tr>\n",
       "    <tr>\n",
       "      <th>23</th>\n",
       "      <td>24.0</td>\n",
       "      <td>28</td>\n",
       "    </tr>\n",
       "    <tr>\n",
       "      <th>24</th>\n",
       "      <td>21.0</td>\n",
       "      <td>26</td>\n",
       "    </tr>\n",
       "    <tr>\n",
       "      <th>25</th>\n",
       "      <td>25.0</td>\n",
       "      <td>22</td>\n",
       "    </tr>\n",
       "    <tr>\n",
       "      <th>26</th>\n",
       "      <td>27.0</td>\n",
       "      <td>19</td>\n",
       "    </tr>\n",
       "    <tr>\n",
       "      <th>27</th>\n",
       "      <td>29.0</td>\n",
       "      <td>12</td>\n",
       "    </tr>\n",
       "    <tr>\n",
       "      <th>28</th>\n",
       "      <td>28.0</td>\n",
       "      <td>12</td>\n",
       "    </tr>\n",
       "    <tr>\n",
       "      <th>29</th>\n",
       "      <td>26.0</td>\n",
       "      <td>11</td>\n",
       "    </tr>\n",
       "    <tr>\n",
       "      <th>30</th>\n",
       "      <td>30.0</td>\n",
       "      <td>8</td>\n",
       "    </tr>\n",
       "    <tr>\n",
       "      <th>31</th>\n",
       "      <td>36.0</td>\n",
       "      <td>4</td>\n",
       "    </tr>\n",
       "    <tr>\n",
       "      <th>32</th>\n",
       "      <td>31.0</td>\n",
       "      <td>3</td>\n",
       "    </tr>\n",
       "    <tr>\n",
       "      <th>33</th>\n",
       "      <td>35.0</td>\n",
       "      <td>2</td>\n",
       "    </tr>\n",
       "    <tr>\n",
       "      <th>34</th>\n",
       "      <td>41.0</td>\n",
       "      <td>1</td>\n",
       "    </tr>\n",
       "  </tbody>\n",
       "</table>\n",
       "</div>"
      ],
      "text/plain": [
       "     yoj  count\n",
       "0    0.0    177\n",
       "1    4.0    152\n",
       "2    1.0    137\n",
       "3    6.0    126\n",
       "4    2.0    125\n",
       "5    5.0    117\n",
       "6    3.0    115\n",
       "7    9.0    113\n",
       "8   10.0    103\n",
       "9    7.0     92\n",
       "10   8.0     86\n",
       "11  13.0     66\n",
       "12  11.0     64\n",
       "13  12.0     57\n",
       "14  16.0     51\n",
       "15  14.0     50\n",
       "16  15.0     46\n",
       "17  20.0     35\n",
       "18  19.0     35\n",
       "19  17.0     34\n",
       "20  22.0     31\n",
       "21  23.0     30\n",
       "22  18.0     28\n",
       "23  24.0     28\n",
       "24  21.0     26\n",
       "25  25.0     22\n",
       "26  27.0     19\n",
       "27  29.0     12\n",
       "28  28.0     12\n",
       "29  26.0     11\n",
       "30  30.0      8\n",
       "31  36.0      4\n",
       "32  31.0      3\n",
       "33  35.0      2\n",
       "34  41.0      1"
      ]
     },
     "execution_count": 255,
     "metadata": {},
     "output_type": "execute_result"
    }
   ],
   "source": [
    "dt=data[\"yoj\"].value_counts().to_frame()\n",
    "dt = dt.reset_index()\n",
    "dt.columns = [\"yoj\", \"count\"]\n",
    "dt"
   ]
  },
  {
   "cell_type": "markdown",
   "metadata": {},
   "source": [
    "#### işte bulunma süreleri arttıkça kredi  sayısı düşüyor. Çalışmanın ilk yıllarında krediler fazla "
   ]
  },
  {
   "cell_type": "code",
   "execution_count": 264,
   "metadata": {},
   "outputs": [
    {
     "data": {
      "image/png": "[encoded data removed]",
      "text/plain": [
       "<Figure size 432x288 with 1 Axes>"
      ]
     },
     "metadata": {
      "needs_background": "light"
     },
     "output_type": "display_data"
    }
   ],
   "source": [
    "plt.scatter(x='yoj', y='count', data=dt)\n",
    "plt.xlabel(\"yoj\")\n",
    "plt.ylabel(\"frequency\")\n",
    "plt.show()"
   ]
  },
  {
   "cell_type": "code",
   "execution_count": 2,
   "metadata": {},
   "outputs": [],
   "source": [
    "data = data.dropna(how='any')"
   ]
  },
  {
   "cell_type": "markdown",
   "metadata": {},
   "source": [
    "#### 0-10000 arası kredi talebi bad section'da biraz fazla. 350 kişi 0-10000 arası olsa 50 kişi bad section %15'ine denk geliyor."
   ]
  },
  {
   "cell_type": "code",
   "execution_count": 4,
   "metadata": {},
   "outputs": [
    {
     "data": {
      "image/png": "[encoded data removed]",
      "text/plain": [
       "<Figure size 1296x720 with 2 Axes>"
      ]
     },
     "metadata": {
      "needs_background": "light"
     },
     "output_type": "display_data"
    }
   ],
   "source": [
    "fig, ax = plt.subplots(1, 2, figsize = (18, 10))\n",
    "\n",
    "data[data[\"bad\"] == 0][\"loan\"].plot.hist(ax = ax[0], bins = [0,10000,20000,30000,40000,50000,60000,70000,80000,90000],\n",
    "                                         edgecolor = \"black\", color = \"green\")\n",
    "ax[0].set_title(\"good section\")\n",
    "\n",
    "\n",
    "data[data[\"bad\"] == 1 ][\"loan\"].plot.hist(ax = ax[1], bins = [0,10000,20000,30000,40000,50000,60000,70000,80000,90000],\n",
    "                                          edgecolor = \"black\", color = \"red\")\n",
    "ax[1].set_title(\"bad section\")\n",
    "plt.show()"
   ]
  },
  {
   "cell_type": "markdown",
   "metadata": {},
   "source": [
    "#### bad section mal varlığı ile pek alakası olduğu söylenemez.sadece 0-50000 arası bad section oran olarak biraz fazla gözüküyor."
   ]
  },
  {
   "cell_type": "code",
   "execution_count": 5,
   "metadata": {},
   "outputs": [
    {
     "data": {
      "image/png": "[encoded data removed]",
      "text/plain": [
       "<Figure size 1296x720 with 2 Axes>"
      ]
     },
     "metadata": {
      "needs_background": "light"
     },
     "output_type": "display_data"
    }
   ],
   "source": [
    "fig, ax = plt.subplots(1, 2, figsize = (18, 10))\n",
    "\n",
    "data[data[\"bad\"] == 0][\"value\"].plot.hist(ax = ax[0], bins = [0,50000,100000,150000,200000,250000,300000,350000,400000,450000,500000],\n",
    "                                         edgecolor = \"black\", color = \"green\")\n",
    "ax[0].set_title(\"good section\")\n",
    "\n",
    "\n",
    "data[data[\"bad\"] == 1 ][\"value\"].plot.hist(ax = ax[1], bins = [0,50000,100000,150000,200000,250000,300000,350000,400000,450000,500000],\n",
    "                                          edgecolor = \"black\", color = \"red\")\n",
    "ax[1].set_title(\"bad section\")\n",
    "plt.show()"
   ]
  },
  {
   "cell_type": "markdown",
   "metadata": {},
   "source": [
    "#### istenilen zcore'a göre outliers'ların düşürülmesi için"
   ]
  },
  {
   "cell_type": "code",
   "execution_count": 24,
   "metadata": {},
   "outputs": [],
   "source": [
    "#std : istenilen zscore\n",
    "\n",
    "from scipy import stats\n",
    "def zscore(categoric_data, value, data, std):\n",
    "    d = data[[categoric_data, value]]\n",
    "    zet = np.abs(stats.zscore(d))\n",
    "    scoreList=[]\n",
    "    for i in range(len(zet)):\n",
    "        if zet[i][1]<std:\n",
    "            scoreList.append((d.iloc[i,0],d.iloc[i][1]))\n",
    "        else: \n",
    "            continue\n",
    "    df = pd.DataFrame(scoreList)\n",
    "    df.columns = [categoric_data, value]\n",
    "    return df"
   ]
  },
  {
   "cell_type": "code",
   "execution_count": 25,
   "metadata": {},
   "outputs": [],
   "source": [
    "df = zscore(\"bad\", \"value\", data, 1)"
   ]
  },
  {
   "cell_type": "code",
   "execution_count": 26,
   "metadata": {},
   "outputs": [
    {
     "data": {
      "text/plain": [
       "<matplotlib.axes._subplots.AxesSubplot at 0x14851a48>"
      ]
     },
     "execution_count": 26,
     "metadata": {},
     "output_type": "execute_result"
    },
    {
     "data": {
      "image/png": "[encoded data removed]",
      "text/plain": [
       "<Figure size 432x288 with 1 Axes>"
      ]
     },
     "metadata": {
      "needs_background": "light"
     },
     "output_type": "display_data"
    }
   ],
   "source": [
    "sns.boxplot(x=\"bad\", y=\"value\", data=df)"
   ]
  },
  {
   "cell_type": "markdown",
   "metadata": {},
   "source": [
    "#### üstteki zscore kullanarak outlier düşürülen alttaki ise verinin ham hali"
   ]
  },
  {
   "cell_type": "code",
   "execution_count": 27,
   "metadata": {},
   "outputs": [
    {
     "data": {
      "text/plain": [
       "<matplotlib.axes._subplots.AxesSubplot at 0x14851fe8>"
      ]
     },
     "execution_count": 27,
     "metadata": {},
     "output_type": "execute_result"
    },
    {
     "data": {
      "image/png": "[encoded data removed]",
      "text/plain": [
       "<Figure size 432x288 with 1 Axes>"
      ]
     },
     "metadata": {
      "needs_background": "light"
     },
     "output_type": "display_data"
    }
   ],
   "source": [
    "sns.boxplot(x=\"bad\", y=\"value\", data=data)"
   ]
  },
  {
   "cell_type": "markdown",
   "metadata": {},
   "source": [
    "#### mal varlıklarının outliers'dan temizlenmiş hali"
   ]
  },
  {
   "cell_type": "code",
   "execution_count": 28,
   "metadata": {},
   "outputs": [
    {
     "data": {
      "text/plain": [
       "<matplotlib.axes._subplots.AxesSubplot at 0xd3ae3b8>"
      ]
     },
     "execution_count": 28,
     "metadata": {},
     "output_type": "execute_result"
    },
    {
     "data": {
      "image/png": "[encoded data removed]",
      "text/plain": [
       "<Figure size 432x288 with 1 Axes>"
      ]
     },
     "metadata": {
      "needs_background": "light"
     },
     "output_type": "display_data"
    }
   ],
   "source": [
    "df[\"value\"].hist()"
   ]
  },
  {
   "cell_type": "code",
   "execution_count": 29,
   "metadata": {},
   "outputs": [
    {
     "data": {
      "text/plain": [
       "<matplotlib.axes._subplots.AxesSubplot at 0xd3f9478>"
      ]
     },
     "execution_count": 29,
     "metadata": {},
     "output_type": "execute_result"
    },
    {
     "data": {
      "image/png": "[encoded data removed]",
      "text/plain": [
       "<Figure size 432x288 with 1 Axes>"
      ]
     },
     "metadata": {
      "needs_background": "light"
     },
     "output_type": "display_data"
    }
   ],
   "source": [
    "p = zscore(\"bad\", \"debtinc\", data, 2)\n",
    "sns.boxplot(x=\"bad\", y=\"debtinc\", data=p)"
   ]
  },
  {
   "cell_type": "markdown",
   "metadata": {},
   "source": [
    "#### üstteki zscore=2'ye göre outliers'ların düşürülmüş hali alttaki ise ham veri"
   ]
  },
  {
   "cell_type": "code",
   "execution_count": 30,
   "metadata": {},
   "outputs": [
    {
     "data": {
      "text/plain": [
       "<matplotlib.axes._subplots.AxesSubplot at 0xd431a60>"
      ]
     },
     "execution_count": 30,
     "metadata": {},
     "output_type": "execute_result"
    },
    {
     "data": {
      "image/png": "[encoded data removed]",
      "text/plain": [
       "<Figure size 432x288 with 1 Axes>"
      ]
     },
     "metadata": {
      "needs_background": "light"
     },
     "output_type": "display_data"
    }
   ],
   "source": [
    "sns.boxplot(x=\"bad\", y=\"debtinc\", data=data)"
   ]
  },
  {
   "cell_type": "code",
   "execution_count": null,
   "metadata": {},
   "outputs": [],
   "source": []
  }
 ],
 "metadata": {
  "kernelspec": {
   "display_name": "Python 3",
   "language": "python",
   "name": "python3"
  },
  "language_info": {
   "codemirror_mode": {
    "name": "ipython",
    "version": 3
   },
   "file_extension": ".py",
   "mimetype": "text/x-python",
   "name": "python",
   "nbconvert_exporter": "python",
   "pygments_lexer": "ipython3",
   "version": "3.8.3"
  }
 },
 "nbformat": 4,
 "nbformat_minor": 4
}
